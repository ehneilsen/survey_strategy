{
 "cells": [
  {
   "cell_type": "markdown",
   "metadata": {},
   "source": [
    "## m5_flat_sed ##\n",
    "\n",
    "m5_flat_sed provides a scaling calculation for m5, to adjust the m5 values for different FWHM, sky background, and exposure times. \n",
    "\n",
    "The scaling relationships in m5_flat_sed are based on C_m and dC_m values calculated by code in syseng_throughputs. These values are most appropriate for a given number of exposures within a visit, and as exposure time or sky background is varied, the resulting errors in the scaled magnitude (vs an m5 value calculated from 'scratch' with the full SNR formula) are < 0.02 mag. (see plots below)\n",
    "\n",
    "As the number of exposures within a visit is changed, the resulting errors in the scaled magnitude are also slightly in error; in general these errors are larger than the scaled values from the same number of exposures/visit, but still remain < 0.02 mag. (see plots and tables below)"
   ]
  },
  {
   "cell_type": "code",
   "execution_count": 1,
   "metadata": {},
   "outputs": [],
   "source": [
    "import os\n",
    "from copy import deepcopy\n",
    "import numpy as np\n",
    "import pandas as pd\n",
    "import matplotlib.pyplot as plt\n",
    "%matplotlib inline\n",
    "import lsst.syseng.throughputs as st\n",
    "from lsst.sims.utils import m5_flat_sed, m5_scale\n",
    "import lsst.sims.photUtils as photUtils"
   ]
  },
  {
   "cell_type": "code",
   "execution_count": 2,
   "metadata": {},
   "outputs": [],
   "source": [
    "# Read the base throughput and SED files required, from the syseng_throughputs directory. \n",
    "filterlist = ('u', 'g', 'r', 'i', 'z', 'y')\n",
    "defaultDirs = st.setDefaultDirs()\n",
    "\n",
    "atmosphere = st.readAtmosphere(defaultDirs['atmosphere'], atmosFile='atmos_10_aerosol.dat')\n",
    "darksky = photUtils.Sed()\n",
    "darksky.readSED_flambda(os.path.join(defaultDirs['atmosphere'], 'darksky.dat'))\n",
    "\n",
    "hardware, system = st.buildHardwareAndSystem(defaultDirs, atmosphereOverride=atmosphere)"
   ]
  },
  {
   "cell_type": "code",
   "execution_count": 3,
   "metadata": {},
   "outputs": [],
   "source": [
    "# Get the Cm/dCm_infinity/m5 values for various examples of the visit time\n",
    "m5_1_15 = st.makeM5(hardware, system, exptime=15, nexp=1)\n",
    "m5_2_15 = st.makeM5(hardware, system, exptime=15, nexp=2)\n",
    "m5_1_30 = st.makeM5(hardware, system, exptime=30, nexp=1)"
   ]
  },
  {
   "cell_type": "code",
   "execution_count": 4,
   "metadata": {},
   "outputs": [
    {
     "data": {
      "text/html": [
       "<div>\n",
       "<style scoped>\n",
       "    .dataframe tbody tr th:only-of-type {\n",
       "        vertical-align: middle;\n",
       "    }\n",
       "\n",
       "    .dataframe tbody tr th {\n",
       "        vertical-align: top;\n",
       "    }\n",
       "\n",
       "    .dataframe thead th {\n",
       "        text-align: right;\n",
       "    }\n",
       "</style>\n",
       "<table border=\"1\" class=\"dataframe\">\n",
       "  <thead>\n",
       "    <tr style=\"text-align: right;\">\n",
       "      <th></th>\n",
       "      <th>FWHMeff</th>\n",
       "      <th>FWHMgeom</th>\n",
       "      <th>skyMag</th>\n",
       "      <th>skyCounts</th>\n",
       "      <th>Zp_t</th>\n",
       "      <th>Tb</th>\n",
       "      <th>Sb</th>\n",
       "      <th>kAtm</th>\n",
       "      <th>gamma</th>\n",
       "      <th>Cm</th>\n",
       "      <th>dCm_infinity</th>\n",
       "      <th>dCm_double</th>\n",
       "      <th>m5</th>\n",
       "      <th>sourceCounts</th>\n",
       "      <th>m5_fid</th>\n",
       "      <th>m5_min</th>\n",
       "    </tr>\n",
       "  </thead>\n",
       "  <tbody>\n",
       "    <tr>\n",
       "      <th>u</th>\n",
       "      <td>0.92</td>\n",
       "      <td>0.80824</td>\n",
       "      <td>22.988641</td>\n",
       "      <td>69.107171</td>\n",
       "      <td>26.897666</td>\n",
       "      <td>0.032339</td>\n",
       "      <td>0.050870</td>\n",
       "      <td>0.491829</td>\n",
       "      <td>0.038140</td>\n",
       "      <td>23.066504</td>\n",
       "      <td>0.631432</td>\n",
       "      <td>0.405153</td>\n",
       "      <td>23.764100</td>\n",
       "      <td>537.709569</td>\n",
       "      <td>23.9</td>\n",
       "      <td>23.4</td>\n",
       "    </tr>\n",
       "    <tr>\n",
       "      <th>g</th>\n",
       "      <td>0.87</td>\n",
       "      <td>0.76714</td>\n",
       "      <td>22.256461</td>\n",
       "      <td>402.681088</td>\n",
       "      <td>28.357487</td>\n",
       "      <td>0.124068</td>\n",
       "      <td>0.151018</td>\n",
       "      <td>0.213424</td>\n",
       "      <td>0.038734</td>\n",
       "      <td>24.414253</td>\n",
       "      <td>0.179280</td>\n",
       "      <td>0.094867</td>\n",
       "      <td>24.806430</td>\n",
       "      <td>789.848688</td>\n",
       "      <td>25.0</td>\n",
       "      <td>24.6</td>\n",
       "    </tr>\n",
       "    <tr>\n",
       "      <th>r</th>\n",
       "      <td>0.83</td>\n",
       "      <td>0.73426</td>\n",
       "      <td>21.196219</td>\n",
       "      <td>809.726438</td>\n",
       "      <td>28.143236</td>\n",
       "      <td>0.101849</td>\n",
       "      <td>0.114369</td>\n",
       "      <td>0.125876</td>\n",
       "      <td>0.038986</td>\n",
       "      <td>24.438509</td>\n",
       "      <td>0.097058</td>\n",
       "      <td>0.048254</td>\n",
       "      <td>24.351669</td>\n",
       "      <td>985.707537</td>\n",
       "      <td>24.7</td>\n",
       "      <td>24.3</td>\n",
       "    </tr>\n",
       "    <tr>\n",
       "      <th>i</th>\n",
       "      <td>0.80</td>\n",
       "      <td>0.70960</td>\n",
       "      <td>20.477858</td>\n",
       "      <td>1144.110445</td>\n",
       "      <td>27.829843</td>\n",
       "      <td>0.076313</td>\n",
       "      <td>0.083386</td>\n",
       "      <td>0.096232</td>\n",
       "      <td>0.039091</td>\n",
       "      <td>24.325059</td>\n",
       "      <td>0.070576</td>\n",
       "      <td>0.033985</td>\n",
       "      <td>23.919008</td>\n",
       "      <td>1100.157846</td>\n",
       "      <td>24.0</td>\n",
       "      <td>23.6</td>\n",
       "    </tr>\n",
       "    <tr>\n",
       "      <th>z</th>\n",
       "      <td>0.78</td>\n",
       "      <td>0.69316</td>\n",
       "      <td>19.599677</td>\n",
       "      <td>1713.369310</td>\n",
       "      <td>27.417680</td>\n",
       "      <td>0.052208</td>\n",
       "      <td>0.055617</td>\n",
       "      <td>0.068671</td>\n",
       "      <td>0.039221</td>\n",
       "      <td>24.157261</td>\n",
       "      <td>0.048230</td>\n",
       "      <td>0.022357</td>\n",
       "      <td>23.339608</td>\n",
       "      <td>1283.364512</td>\n",
       "      <td>23.3</td>\n",
       "      <td>22.9</td>\n",
       "    </tr>\n",
       "    <tr>\n",
       "      <th>y</th>\n",
       "      <td>0.76</td>\n",
       "      <td>0.67672</td>\n",
       "      <td>18.611811</td>\n",
       "      <td>2282.230987</td>\n",
       "      <td>26.639452</td>\n",
       "      <td>0.025494</td>\n",
       "      <td>0.029824</td>\n",
       "      <td>0.170304</td>\n",
       "      <td>0.039299</td>\n",
       "      <td>23.730151</td>\n",
       "      <td>0.036647</td>\n",
       "      <td>0.016459</td>\n",
       "      <td>22.446767</td>\n",
       "      <td>1426.248407</td>\n",
       "      <td>22.1</td>\n",
       "      <td>21.7</td>\n",
       "    </tr>\n",
       "  </tbody>\n",
       "</table>\n",
       "</div>"
      ],
      "text/plain": [
       "   FWHMeff  FWHMgeom     skyMag    skyCounts       Zp_t        Tb        Sb  \\\n",
       "u     0.92   0.80824  22.988641    69.107171  26.897666  0.032339  0.050870   \n",
       "g     0.87   0.76714  22.256461   402.681088  28.357487  0.124068  0.151018   \n",
       "r     0.83   0.73426  21.196219   809.726438  28.143236  0.101849  0.114369   \n",
       "i     0.80   0.70960  20.477858  1144.110445  27.829843  0.076313  0.083386   \n",
       "z     0.78   0.69316  19.599677  1713.369310  27.417680  0.052208  0.055617   \n",
       "y     0.76   0.67672  18.611811  2282.230987  26.639452  0.025494  0.029824   \n",
       "\n",
       "       kAtm     gamma         Cm  dCm_infinity  dCm_double         m5  \\\n",
       "u  0.491829  0.038140  23.066504      0.631432    0.405153  23.764100   \n",
       "g  0.213424  0.038734  24.414253      0.179280    0.094867  24.806430   \n",
       "r  0.125876  0.038986  24.438509      0.097058    0.048254  24.351669   \n",
       "i  0.096232  0.039091  24.325059      0.070576    0.033985  23.919008   \n",
       "z  0.068671  0.039221  24.157261      0.048230    0.022357  23.339608   \n",
       "y  0.170304  0.039299  23.730151      0.036647    0.016459  22.446767   \n",
       "\n",
       "   sourceCounts  m5_fid  m5_min  \n",
       "u    537.709569    23.9    23.4  \n",
       "g    789.848688    25.0    24.6  \n",
       "r    985.707537    24.7    24.3  \n",
       "i   1100.157846    24.0    23.6  \n",
       "z   1283.364512    23.3    22.9  \n",
       "y   1426.248407    22.1    21.7  "
      ]
     },
     "execution_count": 4,
     "metadata": {},
     "output_type": "execute_result"
    }
   ],
   "source": [
    "m5_2_15"
   ]
  },
  {
   "cell_type": "code",
   "execution_count": 5,
   "metadata": {},
   "outputs": [
    {
     "data": {
      "text/plain": [
       "(       kAtm     skyMag     gamma         Cm  dCm_infinity         m5\n",
       " u  0.491829  22.988641  0.037396  23.055802      0.622630  23.377110\n",
       " g  0.213424  22.256461  0.038221  24.407022      0.177957  24.422912\n",
       " r  0.125876  21.196219  0.038573  24.432733      0.096511  23.969605\n",
       " i  0.096232  20.477858  0.038721  24.319891      0.070224  23.537553\n",
       " z  0.068671  19.599677  0.038903  24.152838      0.048027  22.958897\n",
       " y  0.170304  18.611811  0.039012  23.726175      0.036509  22.066503,\n",
       "        kAtm     skyMag     gamma         Cm  dCm_infinity         m5\n",
       " u  0.491829  22.988641  0.038140  23.066504      0.631432  23.764100\n",
       " g  0.213424  22.256461  0.038734  24.414253      0.179280  24.806430\n",
       " r  0.125876  21.196219  0.038986  24.438509      0.097058  24.351669\n",
       " i  0.096232  20.477858  0.039091  24.325059      0.070576  23.919008\n",
       " z  0.068671  19.599677  0.039221  24.157261      0.048230  23.339608\n",
       " y  0.170304  18.611811  0.039299  23.730151      0.036647  22.446767,\n",
       "        kAtm     skyMag     gamma         Cm  dCm_infinity         m5\n",
       " u  0.491829  22.988641  0.037729  23.283491      0.414446  23.981087\n",
       " g  0.213424  22.256461  0.038638  24.493159      0.100373  24.885337\n",
       " r  0.125876  21.196219  0.038943  24.483056      0.052512  24.396215\n",
       " i  0.096232  20.477858  0.039063  24.357882      0.037753  23.951831\n",
       " z  0.068671  19.599677  0.039204  24.179940      0.025551  23.362287\n",
       " y  0.170304  18.611811  0.039288  23.747481      0.019317  22.464097)"
      ]
     },
     "execution_count": 5,
     "metadata": {},
     "output_type": "execute_result"
    }
   ],
   "source": [
    "# Compare the particular columns that are used to calculate m5 in the scaling relations. kAtm and skyMag are same.\n",
    "cols = ['kAtm', 'skyMag', 'gamma', 'Cm', 'dCm_infinity', 'm5']\n",
    "m5_1_15[cols], m5_2_15[cols], m5_1_30[cols]"
   ]
  },
  {
   "cell_type": "code",
   "execution_count": 6,
   "metadata": {},
   "outputs": [],
   "source": [
    "# Standard coadd formula - this results in slightly incorrect values compared to a full SNR calculation.\n",
    "# (due to coadding flux but not SNR)\n",
    "def coadd_m5(m5s):\n",
    "    result = 1.25*np.log10(np.sum(10.**(0.8*m5s), axis=0))\n",
    "    return result"
   ]
  },
  {
   "cell_type": "code",
   "execution_count": 7,
   "metadata": {},
   "outputs": [
    {
     "data": {
      "text/html": [
       "<div>\n",
       "<style scoped>\n",
       "    .dataframe tbody tr th:only-of-type {\n",
       "        vertical-align: middle;\n",
       "    }\n",
       "\n",
       "    .dataframe tbody tr th {\n",
       "        vertical-align: top;\n",
       "    }\n",
       "\n",
       "    .dataframe thead th {\n",
       "        text-align: right;\n",
       "    }\n",
       "</style>\n",
       "<table border=\"1\" class=\"dataframe\">\n",
       "  <thead>\n",
       "    <tr style=\"text-align: right;\">\n",
       "      <th></th>\n",
       "      <th>m5</th>\n",
       "      <th>coaddM5</th>\n",
       "      <th>diff</th>\n",
       "    </tr>\n",
       "  </thead>\n",
       "  <tbody>\n",
       "    <tr>\n",
       "      <th>u</th>\n",
       "      <td>23.764100</td>\n",
       "      <td>23.753398</td>\n",
       "      <td>0.010702</td>\n",
       "    </tr>\n",
       "    <tr>\n",
       "      <th>g</th>\n",
       "      <td>24.806430</td>\n",
       "      <td>24.799199</td>\n",
       "      <td>0.007231</td>\n",
       "    </tr>\n",
       "    <tr>\n",
       "      <th>r</th>\n",
       "      <td>24.351669</td>\n",
       "      <td>24.345893</td>\n",
       "      <td>0.005776</td>\n",
       "    </tr>\n",
       "    <tr>\n",
       "      <th>i</th>\n",
       "      <td>23.919008</td>\n",
       "      <td>23.913840</td>\n",
       "      <td>0.005168</td>\n",
       "    </tr>\n",
       "    <tr>\n",
       "      <th>z</th>\n",
       "      <td>23.339608</td>\n",
       "      <td>23.335185</td>\n",
       "      <td>0.004423</td>\n",
       "    </tr>\n",
       "    <tr>\n",
       "      <th>y</th>\n",
       "      <td>22.446767</td>\n",
       "      <td>22.442791</td>\n",
       "      <td>0.003976</td>\n",
       "    </tr>\n",
       "  </tbody>\n",
       "</table>\n",
       "</div>"
      ],
      "text/plain": [
       "          m5    coaddM5      diff\n",
       "u  23.764100  23.753398  0.010702\n",
       "g  24.806430  24.799199  0.007231\n",
       "r  24.351669  24.345893  0.005776\n",
       "i  23.919008  23.913840  0.005168\n",
       "z  23.339608  23.335185  0.004423\n",
       "y  22.446767  22.442791  0.003976"
      ]
     },
     "execution_count": 7,
     "metadata": {},
     "output_type": "execute_result"
    }
   ],
   "source": [
    "# Example of difference between coadd (m5 for 15s + m5 for 15s) vs. scratch calc of m5 for 2x15s visit\n",
    "# The difference is largest in u band, where the readnoise is most significant \n",
    "# (and thus the assumption that SNR == flux is the most incorrect)\n",
    "m5_a = st.makeM5(hardware, system, exptime=15, nexp=1)\n",
    "m5_b = st.makeM5(hardware, system, exptime=15, nexp=1)\n",
    "coaddVal = coadd_m5(np.array([m5_a['m5'], m5_b['m5']]))\n",
    "m5_scratch = m5_2_15['m5']\n",
    "t_2_15 = pd.DataFrame(m5_scratch).join(pd.DataFrame(coaddVal, index=filterlist, columns=['coaddM5']))\n",
    "t_2_15 = t_2_15.assign(diff = t_2_15.m5 - t_2_15.coaddM5)\n",
    "t_2_15"
   ]
  },
  {
   "cell_type": "code",
   "execution_count": 8,
   "metadata": {},
   "outputs": [],
   "source": [
    "# Let's compare scaling of m5 vs. 'from scratch' m5. (exposure time and sky background scaling)\n",
    "# This sets the basic level of inaccuracy we're dealing with from not using a full calculation of SNR. \n",
    "lsstDefaults = photUtils.LSSTdefaults()\n",
    "sky = deepcopy(darksky)\n",
    "\n",
    "colors = {'u': 'cyan', 'g': 'g', 'r': 'orange' , 'i': 'r', 'y':'m', 'z':'k'}"
   ]
  },
  {
   "cell_type": "code",
   "execution_count": 12,
   "metadata": {},
   "outputs": [],
   "source": [
    "# A shortcut to calculate m5 from scratch with variable sky background or exposure time.\n",
    "def m5_calc(visitFilter, expTime, nexp, musky, sky, system, hardware, fwhm):\n",
    "    photParams = photUtils.PhotometricParameters(exptime=expTime, nexp=nexp, gain=1.0, readnoise=8.8,\n",
    "                                                othernoise=0, darkcurrent=0.2)\n",
    "    fNorm = sky.calcFluxNorm(musky, hardware[visitFilter])\n",
    "    sky.multiplyFluxNorm(fNorm)\n",
    "    m5 = photUtils.calcM5(sky, system[visitFilter], hardware[visitFilter], \n",
    "                                   photParams, FWHMeff=fwhm)\n",
    "    return m5"
   ]
  },
  {
   "cell_type": "code",
   "execution_count": 21,
   "metadata": {},
   "outputs": [
    {
     "data": {
      "text/plain": [
       "Text(0.5, 1.0, 'Varying sky background - single exposure per visit')"
      ]
     },
     "execution_count": 21,
     "metadata": {},
     "output_type": "execute_result"
    },
    {
     "data": {
      "image/png": "[encoded data removed]",
      "text/plain": [
       "<Figure size 576x432 with 1 Axes>"
      ]
     },
     "metadata": {
      "needs_background": "light"
     },
     "output_type": "display_data"
    }
   ],
   "source": [
    "# Scale with sky background\n",
    "m5_ex = m5_1_30\n",
    "baseExp = 30\n",
    "\n",
    "exptime = 30\n",
    "nexp = 1 \n",
    "\n",
    "medsky = {'u':22.61, 'g': 22.01, 'r': 20.98, 'i': 20.12, 'z': 18.72, 'y': 18.27}\n",
    "\n",
    "plt.figure(figsize=(8,6))\n",
    "for f in filterlist:\n",
    "    i = 0\n",
    "    darkskyback = m5_ex['skyMag'][f]\n",
    "    for mu in np.arange(darkskyback-2, darkskyback+4, 0.2):\n",
    "        m5_a = m5_calc(f, exptime, nexp, mu, sky, system, hardware, m5_ex['FWHMeff'][f])\n",
    "        m5scale = m5_scale(exptime, nexp, 1.0, m5_1_30['FWHMeff'], mu, m5_ex['skyMag'], \n",
    "                            m5_ex['Cm'], m5_ex['dCm_infinity'], m5_ex['kAtm'], 0, baseExp)[f]\n",
    "        if i == 0:\n",
    "            label = f\n",
    "            i += 1\n",
    "        else:\n",
    "            label = None\n",
    "        plt.plot(mu, m5_a - m5scale, linestyle='-', marker='o', color=colors[f], label=label)\n",
    "    plt.axvline(darkskyback, color=colors[f], linestyle=':')\n",
    "    plt.axvline(medsky[f], color=colors[f], linestyle='--')\n",
    "plt.grid(True, alpha=0.3)\n",
    "plt.legend(loc='right', numpoints=1)\n",
    "plt.xlabel(\"Sky background (mag/sq arcsec)\", fontsize='large')\n",
    "plt.ylabel(\"m5 (scratch) - m5 scale\", fontsize='large')\n",
    "plt.figtext(0.5, 0.8, \"Base m5 values for scaling: m5 1x30s\", fontsize='large')\n",
    "plt.title(\"Varying sky background - single exposure per visit\", fontsize='large')"
   ]
  },
  {
   "cell_type": "code",
   "execution_count": 18,
   "metadata": {},
   "outputs": [
    {
     "data": {
      "text/plain": [
       "Text(0.5, 1.0, 'Varying exposure time - single exposure per visit')"
      ]
     },
     "execution_count": 18,
     "metadata": {},
     "output_type": "execute_result"
    },
    {
     "data": {
      "image/png": "[encoded data removed]",
      "text/plain": [
       "<Figure size 576x432 with 1 Axes>"
      ]
     },
     "metadata": {
      "needs_background": "light"
     },
     "output_type": "display_data"
    }
   ],
   "source": [
    "# Scale with exposure time.\n",
    "m5_ex = m5_1_30\n",
    "baseExp = 30\n",
    "\n",
    "nexp = 1 \n",
    "\n",
    "\n",
    "plt.figure(figsize=(8,6))\n",
    "for exptime in np.arange(10, 120, 5):\n",
    "    m5scale = m5_scale(exptime, nexp, 1.0, m5_ex['FWHMeff'], m5_ex['skyMag'], m5_ex['skyMag'], \n",
    "                       m5_ex['Cm'], m5_ex['dCm_infinity'], m5_ex['kAtm'], 0, baseExp)\n",
    "    for f in filterlist:\n",
    "        m5_a = m5_calc(f, exptime, nexp, m5_ex['skyMag'][f], sky, system, hardware, m5_ex['FWHMeff'][f])\n",
    "        if exptime == 10:\n",
    "            label = f\n",
    "        else:\n",
    "            label = None\n",
    "        plt.plot(exptime, m5_a - m5scale[f], linestyle='-', marker='o', color=colors[f], label=label)\n",
    "plt.grid(True, alpha=0.3)\n",
    "plt.legend(loc='right', numpoints=1)\n",
    "plt.xlabel(\"Total exposure time (s)\", fontsize='large')\n",
    "plt.ylabel(\"m5 (scratch) - m5 scale\", fontsize='large')\n",
    "plt.figtext(0.5, 0.3, \"Base m5 values for scaling: m5 1x30s\", fontsize='large')\n",
    "plt.title(\"Varying exposure time - single exposure per visit\", fontsize='large')"
   ]
  },
  {
   "cell_type": "markdown",
   "metadata": {},
   "source": [
    "So, scaling relationship is not exact and will produce < 0.006 mag of error for exposure time scaling typically, whereas sky background scaling is <0.01 mag of error (based on median sky background values from simulations and range of skybackgrounds typically achieved). "
   ]
  },
  {
   "cell_type": "code",
   "execution_count": 27,
   "metadata": {},
   "outputs": [
    {
     "data": {
      "text/plain": [
       "Text(0.5, 1.0, 'Varying exposure time - two exposures per visit')"
      ]
     },
     "execution_count": 27,
     "metadata": {},
     "output_type": "execute_result"
    },
    {
     "data": {
      "image/png": "[encoded data removed]",
      "text/plain": [
       "<Figure size 576x432 with 1 Axes>"
      ]
     },
     "metadata": {
      "needs_background": "light"
     },
     "output_type": "display_data"
    }
   ],
   "source": [
    "# Now - choose which set of C_m / dC_m values we should use \n",
    "# Given that we are most likely to have 1x30s visits but may also have 2x15s visits\n",
    "# (and possibly could have varying exposure time)\n",
    "# .... I mean, most likely the best answer is 1x30s \n",
    "\n",
    "m5_ex = m5_1_30\n",
    "baseExp = 30\n",
    "\n",
    "# Effect of error if  we have 2 exposures per visit instead of 1? (same total exposure time)\n",
    "# This means there will be an error coming from scaling from 1x30s down to 1x15s, and then again from \n",
    "# coadding 1x15 + 1x15 to get the total m5 for a 2x15s visit.\n",
    "nexp = 2\n",
    "\n",
    "plt.figure(figsize=(8,6))\n",
    "for exptime in np.arange(10, 120, 5):\n",
    "    m5_a = st.makeM5(hardware, system, exptime=exptime/2, nexp=nexp)\n",
    "    m5_calc = m5_scale(exptime/2, nexp, 1.0, m5_ex['FWHMeff'], m5_ex['skyMag'], m5_ex['skyMag'], \n",
    "                       m5_ex['Cm'], m5_ex['dCm_infinity'], m5_ex['kAtm'], 0, baseExp)\n",
    "    for f in filterlist:\n",
    "        plt.plot(exptime, m5_a['m5'][f] - m5_calc[f], linestyle='-', marker='o', color=colors[f])\n",
    "plt.grid(True, alpha=0.3)\n",
    "plt.xlabel(\"Total exposure time (s)\", fontsize='large')\n",
    "plt.ylabel(\"m5 (scratch) - m5 scale\", fontsize='large')\n",
    "plt.figtext(0.45, 0.8, \"Base m5 values for scaling: m5 1x30s\", fontsize='large')\n",
    "plt.title(\"Varying exposure time - two exposures per visit\", fontsize='large')"
   ]
  },
  {
   "cell_type": "markdown",
   "metadata": {},
   "source": [
    "So -- using Cm/dCm values from the 1x30s visit to calculate m5 values for short 2x visits is not great -- \n",
    "More precisely: (for 1x30s vs. 2x15s)"
   ]
  },
  {
   "cell_type": "code",
   "execution_count": 29,
   "metadata": {},
   "outputs": [
    {
     "data": {
      "text/html": [
       "<div>\n",
       "<style scoped>\n",
       "    .dataframe tbody tr th:only-of-type {\n",
       "        vertical-align: middle;\n",
       "    }\n",
       "\n",
       "    .dataframe tbody tr th {\n",
       "        vertical-align: top;\n",
       "    }\n",
       "\n",
       "    .dataframe thead th {\n",
       "        text-align: right;\n",
       "    }\n",
       "</style>\n",
       "<table border=\"1\" class=\"dataframe\">\n",
       "  <thead>\n",
       "    <tr style=\"text-align: right;\">\n",
       "      <th></th>\n",
       "      <th>m5</th>\n",
       "      <th>m5_scaled</th>\n",
       "      <th>diff2x15</th>\n",
       "    </tr>\n",
       "  </thead>\n",
       "  <tbody>\n",
       "    <tr>\n",
       "      <th>u</th>\n",
       "      <td>23.764100</td>\n",
       "      <td>23.748827</td>\n",
       "      <td>0.015273</td>\n",
       "    </tr>\n",
       "    <tr>\n",
       "      <th>g</th>\n",
       "      <td>24.806430</td>\n",
       "      <td>24.800658</td>\n",
       "      <td>0.005772</td>\n",
       "    </tr>\n",
       "    <tr>\n",
       "      <th>r</th>\n",
       "      <td>24.351669</td>\n",
       "      <td>24.348338</td>\n",
       "      <td>0.003331</td>\n",
       "    </tr>\n",
       "    <tr>\n",
       "      <th>i</th>\n",
       "      <td>23.919008</td>\n",
       "      <td>23.916533</td>\n",
       "      <td>0.002475</td>\n",
       "    </tr>\n",
       "    <tr>\n",
       "      <th>z</th>\n",
       "      <td>23.339608</td>\n",
       "      <td>23.337884</td>\n",
       "      <td>0.001724</td>\n",
       "    </tr>\n",
       "    <tr>\n",
       "      <th>y</th>\n",
       "      <td>22.446767</td>\n",
       "      <td>22.445444</td>\n",
       "      <td>0.001323</td>\n",
       "    </tr>\n",
       "  </tbody>\n",
       "</table>\n",
       "</div>"
      ],
      "text/plain": [
       "          m5  m5_scaled  diff2x15\n",
       "u  23.764100  23.748827  0.015273\n",
       "g  24.806430  24.800658  0.005772\n",
       "r  24.351669  24.348338  0.003331\n",
       "i  23.919008  23.916533  0.002475\n",
       "z  23.339608  23.337884  0.001724\n",
       "y  22.446767  22.445444  0.001323"
      ]
     },
     "execution_count": 29,
     "metadata": {},
     "output_type": "execute_result"
    }
   ],
   "source": [
    "# We know expected m5 value for 1x30s visit (m5_1_30), we know how far off coadd m5 (from 2 * m_1_15 is)\n",
    "# How bad is scaled m5 value, when 1x30s values are used to calculate a 2x15 value?\n",
    "m5_ex = m5_1_30\n",
    "baseExp = 30\n",
    "\n",
    "expTime = 15\n",
    "nexp = 2\n",
    "\n",
    "m5scale = {}\n",
    "for f in filterlist:\n",
    "    m5scale[f] = m5_scale(expTime, nexp, 1.0, m5_ex['FWHMeff'][f], m5_ex['skyMag'][f],\n",
    "                         m5_ex['skyMag'][f], m5_ex['Cm'][f], m5_ex['dCm_infinity'][f], m5_ex['kAtm'][f], 0, baseExp)\n",
    "m5scale = pd.DataFrame(m5scale, index=['m5_scaled']).T\n",
    "m5scratch = m5_2_15['m5']\n",
    "t_2_15 = pd.DataFrame(m5scratch).join(pd.DataFrame(m5scale))\n",
    "t_2_15 = t_2_15.assign(diff2x15 = t_2_15.m5 - t_2_15.m5_scaled)\n",
    "t_2_15"
   ]
  },
  {
   "cell_type": "code",
   "execution_count": 33,
   "metadata": {},
   "outputs": [
    {
     "data": {
      "text/plain": [
       "Text(0.5, 1.0, 'Varying exposure time - single exposure per visit')"
      ]
     },
     "execution_count": 33,
     "metadata": {},
     "output_type": "execute_result"
    },
    {
     "data": {
      "image/png": "[encoded data removed]",
      "text/plain": [
       "<Figure size 576x432 with 1 Axes>"
      ]
     },
     "metadata": {
      "needs_background": "light"
     },
     "output_type": "display_data"
    }
   ],
   "source": [
    "# And how bad would it be if we used some other Cm/dCm values as the base? \n",
    "# .. if we used 2x15s as the basis and were doing single exposures per visit? \n",
    "m5_ex = m5_2_15\n",
    "baseExp = 15\n",
    "\n",
    "plt.figure(figsize=(8,6))\n",
    "for exptime in np.arange(10, 120, 5):\n",
    "    m5_a = st.makeM5(hardware, system, exptime=exptime, nexp=1)\n",
    "    m5_calc = m5_scale(exptime, 1, 1.0, m5_ex['FWHMeff'], m5_ex['skyMag'], m5_ex['skyMag'], \n",
    "                       m5_ex['Cm'], m5_ex['dCm_infinity'], m5_ex['kAtm'], 0, baseExp)\n",
    "    for f in filterlist:\n",
    "        plt.plot(exptime, m5_a['m5'][f] - m5_calc[f], linestyle='-', marker='o', color=colors[f])\n",
    "plt.grid(True, alpha=0.3)\n",
    "plt.xlabel(\"Total exposure time (s)\", fontsize='large')\n",
    "plt.ylabel(\"m5 (scratch) - m5 scale\", fontsize='large')\n",
    "plt.figtext(0.5, 0.3, \"Base m5 values for scaling: m5 2x15s\", fontsize='large')\n",
    "plt.title(\"Varying exposure time - single exposure per visit\", fontsize='large')"
   ]
  },
  {
   "cell_type": "code",
   "execution_count": 35,
   "metadata": {},
   "outputs": [
    {
     "data": {
      "text/html": [
       "<div>\n",
       "<style scoped>\n",
       "    .dataframe tbody tr th:only-of-type {\n",
       "        vertical-align: middle;\n",
       "    }\n",
       "\n",
       "    .dataframe tbody tr th {\n",
       "        vertical-align: top;\n",
       "    }\n",
       "\n",
       "    .dataframe thead th {\n",
       "        text-align: right;\n",
       "    }\n",
       "</style>\n",
       "<table border=\"1\" class=\"dataframe\">\n",
       "  <thead>\n",
       "    <tr style=\"text-align: right;\">\n",
       "      <th></th>\n",
       "      <th>m5</th>\n",
       "      <th>m5_scaled</th>\n",
       "      <th>diff1x30</th>\n",
       "    </tr>\n",
       "  </thead>\n",
       "  <tbody>\n",
       "    <tr>\n",
       "      <th>u</th>\n",
       "      <td>23.981087</td>\n",
       "      <td>23.992762</td>\n",
       "      <td>-0.011675</td>\n",
       "    </tr>\n",
       "    <tr>\n",
       "      <th>g</th>\n",
       "      <td>24.885337</td>\n",
       "      <td>24.888703</td>\n",
       "      <td>-0.003366</td>\n",
       "    </tr>\n",
       "    <tr>\n",
       "      <th>r</th>\n",
       "      <td>24.396215</td>\n",
       "      <td>24.398032</td>\n",
       "      <td>-0.001817</td>\n",
       "    </tr>\n",
       "    <tr>\n",
       "      <th>i</th>\n",
       "      <td>23.951831</td>\n",
       "      <td>23.953150</td>\n",
       "      <td>-0.001319</td>\n",
       "    </tr>\n",
       "    <tr>\n",
       "      <th>z</th>\n",
       "      <td>23.362287</td>\n",
       "      <td>23.363188</td>\n",
       "      <td>-0.000901</td>\n",
       "    </tr>\n",
       "    <tr>\n",
       "      <th>y</th>\n",
       "      <td>22.464097</td>\n",
       "      <td>22.464781</td>\n",
       "      <td>-0.000684</td>\n",
       "    </tr>\n",
       "  </tbody>\n",
       "</table>\n",
       "</div>"
      ],
      "text/plain": [
       "          m5  m5_scaled  diff1x30\n",
       "u  23.981087  23.992762 -0.011675\n",
       "g  24.885337  24.888703 -0.003366\n",
       "r  24.396215  24.398032 -0.001817\n",
       "i  23.951831  23.953150 -0.001319\n",
       "z  23.362287  23.363188 -0.000901\n",
       "y  22.464097  22.464781 -0.000684"
      ]
     },
     "execution_count": 35,
     "metadata": {},
     "output_type": "execute_result"
    }
   ],
   "source": [
    "# We know expected m5 value for 1x30s visit (m5_1_30), we know how far off coadd m5 (from 2 * m_1_15 is)\n",
    "# How bad is scaled m5 value, when 1x30s values are used to calculate a 2x15 value?\n",
    "m5_ex = m5_2_15\n",
    "baseExp = 15\n",
    "\n",
    "expTime = 30\n",
    "nexp = 1\n",
    "\n",
    "m5scale = {}\n",
    "for f in filterlist:\n",
    "    m5scale[f] = m5_scale(expTime, nexp, 1.0, m5_ex['FWHMeff'][f], m5_ex['skyMag'][f],\n",
    "                         m5_ex['skyMag'][f], m5_ex['Cm'][f], m5_ex['dCm_infinity'][f], m5_ex['kAtm'][f], 0, baseExp)\n",
    "m5scale = pd.DataFrame(m5scale, index=['m5_scaled']).T\n",
    "m5scratch = m5_1_30['m5']\n",
    "t_2_15 = pd.DataFrame(m5scratch).join(pd.DataFrame(m5scale))\n",
    "t_2_15 = t_2_15.assign(diff1x30= t_2_15.m5 - t_2_15.m5_scaled)\n",
    "t_2_15"
   ]
  },
  {
   "cell_type": "markdown",
   "metadata": {},
   "source": [
    "## Conclusion ##\n",
    "\n",
    "The upshot is that a 2x15s basis for the Cm/dCm values gives about 0.01 mag errors for 1x30s visits in u band;\n",
    "a 1x30s basis for the Cm/dCm values gives about 0.015 mag errors for 2x15s visits in u band. \n",
    "The 1x30s basis results in underestimating m5 while scaling; the 2x15s basis results in overestimating m5 when scaling. \n",
    "\n",
    "Since most visits are likely to be 1x30s (in current sims), we should use 1x30s as the typical basis. (and give a function that can be used to scale magnitudes with either set of values in addition). "
   ]
  }
 ],
 "metadata": {
  "kernelspec": {
   "display_name": "Python 3",
   "language": "python",
   "name": "python3"
  },
  "language_info": {
   "codemirror_mode": {
    "name": "ipython",
    "version": 3
   },
   "file_extension": ".py",
   "mimetype": "text/x-python",
   "name": "python",
   "nbconvert_exporter": "python",
   "pygments_lexer": "ipython3",
   "version": "3.7.3"
  }
 },
 "nbformat": 4,
 "nbformat_minor": 2
}
