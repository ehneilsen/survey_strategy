{
 "cells": [
  {
   "cell_type": "markdown",
   "metadata": {},
   "source": [
    "# Using the archive of `opsim` runs and summary metrics"
   ]
  },
  {
   "cell_type": "markdown",
   "metadata": {},
   "source": [
    "## Introduction"
   ]
  },
  {
   "cell_type": "markdown",
   "metadata": {},
   "source": [
    "The Rubin Observatory Survey Strategy Team is producing an extensive collection of survey strategy simulations (using `opsim`) and corresponding analysis (using `MAF`). Many of these are of interest for science collaborations, and are publicly available. One interface to this data is [interactive web page](http://astro-lsst-01.astro.washington.edu:8081/) with lists of simulation runs and links ot `opsim` configuration and output files (databases of scheduled visits with simulated data quality) and output of `MAF` including summary values and plots:\n",
    "\n",
    "- http://astro-lsst-01.astro.washington.edu:8081/\n",
    "    \n",
    "A programmatic interface to this data is also sometimes helpful. The `rubin_sim.maf.archive` module provides such an interface."
   ]
  },
  {
   "cell_type": "markdown",
   "metadata": {},
   "source": [
    "## Basic concepts"
   ]
  },
  {
   "cell_type": "markdown",
   "metadata": {},
   "source": [
    "Survey strategy executions and analysis are assigned names and collected into groups for easy management and reference, according to the following nomenclature:\n",
    "\n",
    "| term | discussion |\n",
    "|------|------------|\n",
    "| run | A **run** is a single execution of `opsim`. Each run produces an SQLite database of visits with data describing each visit (e.g. the start time, filter used, simulated seeing, etc.). Each `run` has a canonical \"run name\". Examples include `baseline_nexp2_v1.7.1_10yrs`, `barebones_nexp2_v1.6_10yrs`, and `combo_dust_nexp2_v1.6_10yrs`.|\n",
    "| family | The survey strategy team often produces collections of runs designed to explore a specific aspect of survey strategy. Different runs in a collection vary the aspect of survey strategy being studied, while keeping other aspects the same. Comparing runs that are part of the same collection or **family** therefore supports exploring the effects of varying a specific parameter or other scheduler feature. Other collections for which direct comparison might be useful can also sometimes be grouped into the same family. Examples include the `version_baselines` famile, which include simulations that have been used as \"baselines\" at different points in time; and `potential_schedulers`, which are runs that appeared to be good candidates using the `FBS_1.6` version of `opsim`. |\n",
    "| summary metric | A **summary metric** is a single scalar representing some feature of an `opsim` run, generally one that indicates some aspect of the quality of the survey. Each `MAF` metric may produce any number of summary metrics, and each execution of MAF may construct an arbitrary number of summary metrics, depending on the MAF metric bundles executed. Each summary metric has a cannonical name derived from various elements of the metric bundle. |\n",
    "| summary metric sets | Standard executions of MAF on opsim runs produce thousands of summary metrics, and users will only wish to inspect and compare limited subsets of these summary metrics at any given time. The survey strategy team has therefore pre-defined a collection of named sets of metrics, so that sets of metrics usefully examined as a group can be referenced together. Examples of summary metric sets include `srd` (which correspond to requirement in the Science Requirements Document), `Nvis` (which counts visits of different types), `tvs` (summary metrics of interest to the transients and variable stars working group), `descWFD` (summary metrics of interest to DESC analysis of the WFD survey), and more. | "
   ]
  },
  {
   "cell_type": "markdown",
   "metadata": {},
   "source": [
    "## Notebook preparation"
   ]
  },
  {
   "cell_type": "markdown",
   "metadata": {},
   "source": [
    "The following is a development style aid; only uncomment if developing the notebook:"
   ]
  },
  {
   "cell_type": "code",
   "execution_count": 1,
   "metadata": {},
   "outputs": [],
   "source": [
    "%load_ext lab_black\n",
    "%load_ext pycodestyle_magic\n",
    "%flake8_on --ignore E501,W505"
   ]
  },
  {
   "cell_type": "markdown",
   "metadata": {},
   "source": [
    "Required imports:"
   ]
  },
  {
   "cell_type": "code",
   "execution_count": 2,
   "metadata": {},
   "outputs": [],
   "source": [
    "import rubin_sim\n",
    "from rubin_sim import maf"
   ]
  },
  {
   "cell_type": "code",
   "execution_count": 3,
   "metadata": {},
   "outputs": [],
   "source": [
    "%load_ext autoreload\n",
    "%autoreload 1\n",
    "%aimport archive"
   ]
  },
  {
   "cell_type": "markdown",
   "metadata": {},
   "source": [
    "## Run families"
   ]
  },
  {
   "cell_type": "markdown",
   "metadata": {},
   "source": [
    "The \"families\" json file organizes `opsim` runs into \"families,\" groups of runs that vary in a controlled way, and which are approprate for direct comparison with each other in order to understand the effects of varying specific parameters, or making specific alterations to survey strategy."
   ]
  },
  {
   "cell_type": "markdown",
   "metadata": {},
   "source": [
    "You can download a table of families, their descriptions, and definitions into a `pandas.DataFrame` thus:"
   ]
  },
  {
   "cell_type": "code",
   "execution_count": 4,
   "metadata": {},
   "outputs": [
    {
     "data": {
      "text/html": [
       "<div>\n",
       "<style scoped>\n",
       "    .dataframe tbody tr th:only-of-type {\n",
       "        vertical-align: middle;\n",
       "    }\n",
       "\n",
       "    .dataframe tbody tr th {\n",
       "        vertical-align: top;\n",
       "    }\n",
       "\n",
       "    .dataframe thead th {\n",
       "        text-align: right;\n",
       "    }\n",
       "</style>\n",
       "<table border=\"1\" class=\"dataframe\">\n",
       "  <thead>\n",
       "    <tr style=\"text-align: right;\">\n",
       "      <th></th>\n",
       "      <th>version</th>\n",
       "      <th>reference</th>\n",
       "      <th>description</th>\n",
       "      <th>run</th>\n",
       "      <th>brief</th>\n",
       "      <th>filepath</th>\n",
       "      <th>url</th>\n",
       "    </tr>\n",
       "    <tr>\n",
       "      <th>family</th>\n",
       "      <th></th>\n",
       "      <th></th>\n",
       "      <th></th>\n",
       "      <th></th>\n",
       "      <th></th>\n",
       "      <th></th>\n",
       "      <th></th>\n",
       "    </tr>\n",
       "  </thead>\n",
       "  <tbody>\n",
       "    <tr>\n",
       "      <th>baseline</th>\n",
       "      <td>2</td>\n",
       "      <td>baseline_v2.0_10yrs</td>\n",
       "      <td>**baseline** : The v2.0 baseline simulation. T...</td>\n",
       "      <td>[baseline_v2.0_10yrs]</td>\n",
       "      <td>[v2.0 baseline]</td>\n",
       "      <td>[baseline/baseline_v2.0_10yrs.db]</td>\n",
       "      <td>[http://epyc.astro.washington.edu/~lynnej/opsi...</td>\n",
       "    </tr>\n",
       "    <tr>\n",
       "      <th>retro</th>\n",
       "      <td>2</td>\n",
       "      <td>baseline_v2.0_10yrs</td>\n",
       "      <td>**retro** : The retro family provides two simu...</td>\n",
       "      <td>[baseline_retrofoot_v2.0_10yrs, retro_baseline...</td>\n",
       "      <td>[v1.x footprint but new code capabilities, v1....</td>\n",
       "      <td>[retro/baseline_retrofoot_v2.0_10yrs.db, retro...</td>\n",
       "      <td>[http://epyc.astro.washington.edu/~lynnej/opsi...</td>\n",
       "    </tr>\n",
       "    <tr>\n",
       "      <th>rolling</th>\n",
       "      <td>2</td>\n",
       "      <td>baseline_v2.0_10yrs</td>\n",
       "      <td>**rolling** : The updated baseline contains a ...</td>\n",
       "      <td>[rolling_ns2_rw0.5_v2.0_10yrs, rolling_ns3_rw0...</td>\n",
       "      <td>[Rolling half-sky (2 regions) 50%, Rolling thi...</td>\n",
       "      <td>[rolling/rolling_ns2_rw0.5_v2.0_10yrs.db, roll...</td>\n",
       "      <td>[http://epyc.astro.washington.edu/~lynnej/opsi...</td>\n",
       "    </tr>\n",
       "    <tr>\n",
       "      <th>rolling_bulge</th>\n",
       "      <td>2</td>\n",
       "      <td>baseline_v2.0_10yrs</td>\n",
       "      <td>**rolling_bulge** : The updated baseline conta...</td>\n",
       "      <td>[rolling_bulge_ns2_rw0.5_v2.0_10yrs, rolling_b...</td>\n",
       "      <td>[Roll in the bulge with 2 regions, 50%, Roll i...</td>\n",
       "      <td>[rolling_bulge/rolling_bulge_ns2_rw0.5_v2.0_10...</td>\n",
       "      <td>[http://epyc.astro.washington.edu/~lynnej/opsi...</td>\n",
       "    </tr>\n",
       "    <tr>\n",
       "      <th>rolling_bulge_6</th>\n",
       "      <td>2</td>\n",
       "      <td>baseline_v2.0_10yrs</td>\n",
       "      <td>**rolling_bulge_6** : The updated baseline con...</td>\n",
       "      <td>[rolling_bulge_6_v2.0_10yrs]</td>\n",
       "      <td>[Roll the bulge in 6 stripes (low-dust WFD in ...</td>\n",
       "      <td>[rolling_bulge_6/rolling_bulge_6_v2.0_10yrs.db]</td>\n",
       "      <td>[http://epyc.astro.washington.edu/~lynnej/opsi...</td>\n",
       "    </tr>\n",
       "    <tr>\n",
       "      <th>rolling_six</th>\n",
       "      <td>2</td>\n",
       "      <td>baseline_v2.0_10yrs</td>\n",
       "      <td>**rolling_six** : The updated baseline contain...</td>\n",
       "      <td>[six_rolling_ns6_rw0.5_v2.0_10yrs, six_rolling...</td>\n",
       "      <td>[Rolling in one-sixth sky (6 regions) 50%, Rol...</td>\n",
       "      <td>[rolling_six/six_rolling_ns6_rw0.5_v2.0_10yrs....</td>\n",
       "      <td>[http://epyc.astro.washington.edu/~lynnej/opsi...</td>\n",
       "    </tr>\n",
       "    <tr>\n",
       "      <th>rolling_early</th>\n",
       "      <td>2</td>\n",
       "      <td>baseline_v2.0_10yrs</td>\n",
       "      <td>**rolling_early** : The updated baseline conta...</td>\n",
       "      <td>[roll_early_v2.0_10yrs]</td>\n",
       "      <td>[Start rolling year 1]</td>\n",
       "      <td>[rolling_early/roll_early_v2.0_10yrs.db]</td>\n",
       "      <td>[http://epyc.astro.washington.edu/~lynnej/opsi...</td>\n",
       "    </tr>\n",
       "    <tr>\n",
       "      <th>rolling_all_sky</th>\n",
       "      <td>2</td>\n",
       "      <td>baseline_v2.0_10yrs</td>\n",
       "      <td>**rolling_all_sky** : The updated baseline con...</td>\n",
       "      <td>[rolling_all_sky_ns2_rw0.9_v2.0_10yrs]</td>\n",
       "      <td>[Roll on all parts of the sky]</td>\n",
       "      <td>[rolling_all_sky/rolling_all_sky_ns2_rw0.9_v2....</td>\n",
       "      <td>[http://epyc.astro.washington.edu/~lynnej/opsi...</td>\n",
       "    </tr>\n",
       "    <tr>\n",
       "      <th>noroll</th>\n",
       "      <td>2</td>\n",
       "      <td>baseline_v2.0_10yrs</td>\n",
       "      <td>**noroll** : The updated baseline contains a 2...</td>\n",
       "      <td>[noroll_v2.0_10yrs]</td>\n",
       "      <td>[v2.0 baseline with no rolling]</td>\n",
       "      <td>[noroll/noroll_v2.0_10yrs.db]</td>\n",
       "      <td>[http://epyc.astro.washington.edu/~lynnej/opsi...</td>\n",
       "    </tr>\n",
       "    <tr>\n",
       "      <th>bluer</th>\n",
       "      <td>2</td>\n",
       "      <td>baseline_v2.0_10yrs</td>\n",
       "      <td>**bluer** : The standard filter balance in the...</td>\n",
       "      <td>[bluer_indx0_v2.0_10yrs, bluer_indx1_v2.0_10yrs]</td>\n",
       "      <td>[More g - filter ratio in WFD of {'u': 0.07, '...</td>\n",
       "      <td>[bluer/bluer_indx0_v2.0_10yrs.db, bluer/bluer_...</td>\n",
       "      <td>[http://epyc.astro.washington.edu/~lynnej/opsi...</td>\n",
       "    </tr>\n",
       "    <tr>\n",
       "      <th>long_u</th>\n",
       "      <td>2</td>\n",
       "      <td>baseline_v2.0_10yrs</td>\n",
       "      <td>**long_u** : The baseline survey uses 2x15s vi...</td>\n",
       "      <td>[long_u1_v2.0_10yrs, long_u2_v2.0_10yrs]</td>\n",
       "      <td>[u band visits 1x50s, number of u visits same ...</td>\n",
       "      <td>[long_u/long_u1_v2.0_10yrs.db, long_u/long_u2_...</td>\n",
       "      <td>[http://epyc.astro.washington.edu/~lynnej/opsi...</td>\n",
       "    </tr>\n",
       "    <tr>\n",
       "      <th>vary_nes</th>\n",
       "      <td>2</td>\n",
       "      <td>baseline_v2.0_10yrs</td>\n",
       "      <td>**vary_nes** : These simulations investigate t...</td>\n",
       "      <td>[vary_nes_nesfrac0.01_v2.0_10yrs, vary_nes_nes...</td>\n",
       "      <td>[NES at 1% WFD level, NES at 5% WFD level, NES...</td>\n",
       "      <td>[vary_nes/vary_nes_nesfrac0.01_v2.0_10yrs.db, ...</td>\n",
       "      <td>[http://epyc.astro.washington.edu/~lynnej/opsi...</td>\n",
       "    </tr>\n",
       "    <tr>\n",
       "      <th>vary_gp</th>\n",
       "      <td>2</td>\n",
       "      <td>baseline_v2.0_10yrs</td>\n",
       "      <td>**vary_gp** : These simulations investigate th...</td>\n",
       "      <td>[vary_gp_gpfrac0.01_v2.0_10yrs, vary_gp_gpfrac...</td>\n",
       "      <td>[Dusty plane at 1% WFD level, Dusty plane at 5...</td>\n",
       "      <td>[vary_gp/vary_gp_gpfrac0.01_v2.0_10yrs.db, var...</td>\n",
       "      <td>[http://epyc.astro.washington.edu/~lynnej/opsi...</td>\n",
       "    </tr>\n",
       "    <tr>\n",
       "      <th>presto</th>\n",
       "      <td>2</td>\n",
       "      <td>baseline_v2.0_10yrs</td>\n",
       "      <td>**presto** : The baseline survey strategy take...</td>\n",
       "      <td>[presto_gap1.5_v2.0_10yrs, presto_gap2.0_v2.0_...</td>\n",
       "      <td>[Triples spaced 1.5 hours apart g+r,r+i,i+z in...</td>\n",
       "      <td>[presto/presto_gap1.5_mix_v2.0_10yrs.db, prest...</td>\n",
       "      <td>[http://epyc.astro.washington.edu/~lynnej/opsi...</td>\n",
       "    </tr>\n",
       "    <tr>\n",
       "      <th>presto_half</th>\n",
       "      <td>2</td>\n",
       "      <td>baseline_v2.0_10yrs</td>\n",
       "      <td>**presto_half** : The baseline survey strategy...</td>\n",
       "      <td>[presto_half_gap1.5_v2.0_10yrs, presto_half_ga...</td>\n",
       "      <td>[Triples spaced 1.5 hours apart g+r,r+i,i+z in...</td>\n",
       "      <td>[presto_half/presto_half_gap1.5_mix_v2.0_10yrs...</td>\n",
       "      <td>[http://epyc.astro.washington.edu/~lynnej/opsi...</td>\n",
       "    </tr>\n",
       "    <tr>\n",
       "      <th>long_gaps</th>\n",
       "      <td>2</td>\n",
       "      <td>baseline_v2.0_10yrs</td>\n",
       "      <td>**long_gaps** : The baseline survey strategy t...</td>\n",
       "      <td>[long_gaps_nightsoff7_delayed1827_v2.0_10yrs, ...</td>\n",
       "      <td>[Long gaps every 7 nights starting after year ...</td>\n",
       "      <td>[long_gaps/long_gaps_nightsoff0_delayed1827_v2...</td>\n",
       "      <td>[http://epyc.astro.washington.edu/~lynnej/opsi...</td>\n",
       "    </tr>\n",
       "    <tr>\n",
       "      <th>long_gaps_nopair</th>\n",
       "      <td>2</td>\n",
       "      <td>baseline_v2.0_10yrs</td>\n",
       "      <td>**long_gaps_nopair** : The baseline survey str...</td>\n",
       "      <td>[long_gaps_np_nightsoff7_delayed1827_v2.0_10yr...</td>\n",
       "      <td>[long gap pairs every 7 nights starting after ...</td>\n",
       "      <td>[long_gaps_nopair/long_gaps_np_nightsoff0_dela...</td>\n",
       "      <td>[http://epyc.astro.washington.edu/~lynnej/opsi...</td>\n",
       "    </tr>\n",
       "    <tr>\n",
       "      <th>vary_expt</th>\n",
       "      <td>2</td>\n",
       "      <td>baseline_v2.0_10yrs</td>\n",
       "      <td>**vary_expt** : The baseline survey strategy u...</td>\n",
       "      <td>[vary_expt_v2.0_10yrs]</td>\n",
       "      <td>[Vary the exposure times between 20 and 100s]</td>\n",
       "      <td>[vary_expt/vary_expt_v2.0_10yrs.db]</td>\n",
       "      <td>[http://epyc.astro.washington.edu/~lynnej/opsi...</td>\n",
       "    </tr>\n",
       "    <tr>\n",
       "      <th>ddf</th>\n",
       "      <td>2</td>\n",
       "      <td>baseline_v2.0_10yrs</td>\n",
       "      <td>**ddf** : The baseline survey strategy adds fi...</td>\n",
       "      <td>[ddf_frac_ddf_per0.6_v2.0_10yrs, ddf_frac_ddf_...</td>\n",
       "      <td>[DDF fraction of visits reduced to 3% of total...</td>\n",
       "      <td>[ddf/ddf_frac_ddf_per0.6_v2.0_10yrs.db, ddf/dd...</td>\n",
       "      <td>[http://epyc.astro.washington.edu/~lynnej/opsi...</td>\n",
       "    </tr>\n",
       "    <tr>\n",
       "      <th>microsurveys</th>\n",
       "      <td>2</td>\n",
       "      <td>baseline_v2.0_10yrs</td>\n",
       "      <td>**microsurveys** : There are special programs ...</td>\n",
       "      <td>[virgo_cluster_v2.0_10yrs, carina_v2.0_10yrs, ...</td>\n",
       "      <td>[Add the virgo cluster to WFD footprint, One w...</td>\n",
       "      <td>[microsurveys/roman/roman_v2.0_10yrs.db, micro...</td>\n",
       "      <td>[http://epyc.astro.washington.edu/~lynnej/opsi...</td>\n",
       "    </tr>\n",
       "  </tbody>\n",
       "</table>\n",
       "</div>"
      ],
      "text/plain": [
       "                  version            reference  \\\n",
       "family                                           \n",
       "baseline                2  baseline_v2.0_10yrs   \n",
       "retro                   2  baseline_v2.0_10yrs   \n",
       "rolling                 2  baseline_v2.0_10yrs   \n",
       "rolling_bulge           2  baseline_v2.0_10yrs   \n",
       "rolling_bulge_6         2  baseline_v2.0_10yrs   \n",
       "rolling_six             2  baseline_v2.0_10yrs   \n",
       "rolling_early           2  baseline_v2.0_10yrs   \n",
       "rolling_all_sky         2  baseline_v2.0_10yrs   \n",
       "noroll                  2  baseline_v2.0_10yrs   \n",
       "bluer                   2  baseline_v2.0_10yrs   \n",
       "long_u                  2  baseline_v2.0_10yrs   \n",
       "vary_nes                2  baseline_v2.0_10yrs   \n",
       "vary_gp                 2  baseline_v2.0_10yrs   \n",
       "presto                  2  baseline_v2.0_10yrs   \n",
       "presto_half             2  baseline_v2.0_10yrs   \n",
       "long_gaps               2  baseline_v2.0_10yrs   \n",
       "long_gaps_nopair        2  baseline_v2.0_10yrs   \n",
       "vary_expt               2  baseline_v2.0_10yrs   \n",
       "ddf                     2  baseline_v2.0_10yrs   \n",
       "microsurveys            2  baseline_v2.0_10yrs   \n",
       "\n",
       "                                                        description  \\\n",
       "family                                                                \n",
       "baseline          **baseline** : The v2.0 baseline simulation. T...   \n",
       "retro             **retro** : The retro family provides two simu...   \n",
       "rolling           **rolling** : The updated baseline contains a ...   \n",
       "rolling_bulge     **rolling_bulge** : The updated baseline conta...   \n",
       "rolling_bulge_6   **rolling_bulge_6** : The updated baseline con...   \n",
       "rolling_six       **rolling_six** : The updated baseline contain...   \n",
       "rolling_early     **rolling_early** : The updated baseline conta...   \n",
       "rolling_all_sky   **rolling_all_sky** : The updated baseline con...   \n",
       "noroll            **noroll** : The updated baseline contains a 2...   \n",
       "bluer             **bluer** : The standard filter balance in the...   \n",
       "long_u            **long_u** : The baseline survey uses 2x15s vi...   \n",
       "vary_nes          **vary_nes** : These simulations investigate t...   \n",
       "vary_gp           **vary_gp** : These simulations investigate th...   \n",
       "presto            **presto** : The baseline survey strategy take...   \n",
       "presto_half       **presto_half** : The baseline survey strategy...   \n",
       "long_gaps         **long_gaps** : The baseline survey strategy t...   \n",
       "long_gaps_nopair  **long_gaps_nopair** : The baseline survey str...   \n",
       "vary_expt         **vary_expt** : The baseline survey strategy u...   \n",
       "ddf               **ddf** : The baseline survey strategy adds fi...   \n",
       "microsurveys      **microsurveys** : There are special programs ...   \n",
       "\n",
       "                                                                run  \\\n",
       "family                                                                \n",
       "baseline                                      [baseline_v2.0_10yrs]   \n",
       "retro             [baseline_retrofoot_v2.0_10yrs, retro_baseline...   \n",
       "rolling           [rolling_ns2_rw0.5_v2.0_10yrs, rolling_ns3_rw0...   \n",
       "rolling_bulge     [rolling_bulge_ns2_rw0.5_v2.0_10yrs, rolling_b...   \n",
       "rolling_bulge_6                        [rolling_bulge_6_v2.0_10yrs]   \n",
       "rolling_six       [six_rolling_ns6_rw0.5_v2.0_10yrs, six_rolling...   \n",
       "rolling_early                               [roll_early_v2.0_10yrs]   \n",
       "rolling_all_sky              [rolling_all_sky_ns2_rw0.9_v2.0_10yrs]   \n",
       "noroll                                          [noroll_v2.0_10yrs]   \n",
       "bluer              [bluer_indx0_v2.0_10yrs, bluer_indx1_v2.0_10yrs]   \n",
       "long_u                     [long_u1_v2.0_10yrs, long_u2_v2.0_10yrs]   \n",
       "vary_nes          [vary_nes_nesfrac0.01_v2.0_10yrs, vary_nes_nes...   \n",
       "vary_gp           [vary_gp_gpfrac0.01_v2.0_10yrs, vary_gp_gpfrac...   \n",
       "presto            [presto_gap1.5_v2.0_10yrs, presto_gap2.0_v2.0_...   \n",
       "presto_half       [presto_half_gap1.5_v2.0_10yrs, presto_half_ga...   \n",
       "long_gaps         [long_gaps_nightsoff7_delayed1827_v2.0_10yrs, ...   \n",
       "long_gaps_nopair  [long_gaps_np_nightsoff7_delayed1827_v2.0_10yr...   \n",
       "vary_expt                                    [vary_expt_v2.0_10yrs]   \n",
       "ddf               [ddf_frac_ddf_per0.6_v2.0_10yrs, ddf_frac_ddf_...   \n",
       "microsurveys      [virgo_cluster_v2.0_10yrs, carina_v2.0_10yrs, ...   \n",
       "\n",
       "                                                              brief  \\\n",
       "family                                                                \n",
       "baseline                                            [v2.0 baseline]   \n",
       "retro             [v1.x footprint but new code capabilities, v1....   \n",
       "rolling           [Rolling half-sky (2 regions) 50%, Rolling thi...   \n",
       "rolling_bulge     [Roll in the bulge with 2 regions, 50%, Roll i...   \n",
       "rolling_bulge_6   [Roll the bulge in 6 stripes (low-dust WFD in ...   \n",
       "rolling_six       [Rolling in one-sixth sky (6 regions) 50%, Rol...   \n",
       "rolling_early                                [Start rolling year 1]   \n",
       "rolling_all_sky                      [Roll on all parts of the sky]   \n",
       "noroll                              [v2.0 baseline with no rolling]   \n",
       "bluer             [More g - filter ratio in WFD of {'u': 0.07, '...   \n",
       "long_u            [u band visits 1x50s, number of u visits same ...   \n",
       "vary_nes          [NES at 1% WFD level, NES at 5% WFD level, NES...   \n",
       "vary_gp           [Dusty plane at 1% WFD level, Dusty plane at 5...   \n",
       "presto            [Triples spaced 1.5 hours apart g+r,r+i,i+z in...   \n",
       "presto_half       [Triples spaced 1.5 hours apart g+r,r+i,i+z in...   \n",
       "long_gaps         [Long gaps every 7 nights starting after year ...   \n",
       "long_gaps_nopair  [long gap pairs every 7 nights starting after ...   \n",
       "vary_expt             [Vary the exposure times between 20 and 100s]   \n",
       "ddf               [DDF fraction of visits reduced to 3% of total...   \n",
       "microsurveys      [Add the virgo cluster to WFD footprint, One w...   \n",
       "\n",
       "                                                           filepath  \\\n",
       "family                                                                \n",
       "baseline                          [baseline/baseline_v2.0_10yrs.db]   \n",
       "retro             [retro/baseline_retrofoot_v2.0_10yrs.db, retro...   \n",
       "rolling           [rolling/rolling_ns2_rw0.5_v2.0_10yrs.db, roll...   \n",
       "rolling_bulge     [rolling_bulge/rolling_bulge_ns2_rw0.5_v2.0_10...   \n",
       "rolling_bulge_6     [rolling_bulge_6/rolling_bulge_6_v2.0_10yrs.db]   \n",
       "rolling_six       [rolling_six/six_rolling_ns6_rw0.5_v2.0_10yrs....   \n",
       "rolling_early              [rolling_early/roll_early_v2.0_10yrs.db]   \n",
       "rolling_all_sky   [rolling_all_sky/rolling_all_sky_ns2_rw0.9_v2....   \n",
       "noroll                                [noroll/noroll_v2.0_10yrs.db]   \n",
       "bluer             [bluer/bluer_indx0_v2.0_10yrs.db, bluer/bluer_...   \n",
       "long_u            [long_u/long_u1_v2.0_10yrs.db, long_u/long_u2_...   \n",
       "vary_nes          [vary_nes/vary_nes_nesfrac0.01_v2.0_10yrs.db, ...   \n",
       "vary_gp           [vary_gp/vary_gp_gpfrac0.01_v2.0_10yrs.db, var...   \n",
       "presto            [presto/presto_gap1.5_mix_v2.0_10yrs.db, prest...   \n",
       "presto_half       [presto_half/presto_half_gap1.5_mix_v2.0_10yrs...   \n",
       "long_gaps         [long_gaps/long_gaps_nightsoff0_delayed1827_v2...   \n",
       "long_gaps_nopair  [long_gaps_nopair/long_gaps_np_nightsoff0_dela...   \n",
       "vary_expt                       [vary_expt/vary_expt_v2.0_10yrs.db]   \n",
       "ddf               [ddf/ddf_frac_ddf_per0.6_v2.0_10yrs.db, ddf/dd...   \n",
       "microsurveys      [microsurveys/roman/roman_v2.0_10yrs.db, micro...   \n",
       "\n",
       "                                                                url  \n",
       "family                                                               \n",
       "baseline          [http://epyc.astro.washington.edu/~lynnej/opsi...  \n",
       "retro             [http://epyc.astro.washington.edu/~lynnej/opsi...  \n",
       "rolling           [http://epyc.astro.washington.edu/~lynnej/opsi...  \n",
       "rolling_bulge     [http://epyc.astro.washington.edu/~lynnej/opsi...  \n",
       "rolling_bulge_6   [http://epyc.astro.washington.edu/~lynnej/opsi...  \n",
       "rolling_six       [http://epyc.astro.washington.edu/~lynnej/opsi...  \n",
       "rolling_early     [http://epyc.astro.washington.edu/~lynnej/opsi...  \n",
       "rolling_all_sky   [http://epyc.astro.washington.edu/~lynnej/opsi...  \n",
       "noroll            [http://epyc.astro.washington.edu/~lynnej/opsi...  \n",
       "bluer             [http://epyc.astro.washington.edu/~lynnej/opsi...  \n",
       "long_u            [http://epyc.astro.washington.edu/~lynnej/opsi...  \n",
       "vary_nes          [http://epyc.astro.washington.edu/~lynnej/opsi...  \n",
       "vary_gp           [http://epyc.astro.washington.edu/~lynnej/opsi...  \n",
       "presto            [http://epyc.astro.washington.edu/~lynnej/opsi...  \n",
       "presto_half       [http://epyc.astro.washington.edu/~lynnej/opsi...  \n",
       "long_gaps         [http://epyc.astro.washington.edu/~lynnej/opsi...  \n",
       "long_gaps_nopair  [http://epyc.astro.washington.edu/~lynnej/opsi...  \n",
       "vary_expt         [http://epyc.astro.washington.edu/~lynnej/opsi...  \n",
       "ddf               [http://epyc.astro.washington.edu/~lynnej/opsi...  \n",
       "microsurveys      [http://epyc.astro.washington.edu/~lynnej/opsi...  "
      ]
     },
     "execution_count": 4,
     "metadata": {},
     "output_type": "execute_result"
    }
   ],
   "source": [
    "families = archive.get_family_descriptions()\n",
    "families"
   ]
  },
  {
   "cell_type": "markdown",
   "metadata": {},
   "source": [
    "By default, `get_family_descriptions` retrives the runs data from a json file at the URL provided in `archive.FAMILY_SOURCE`:"
   ]
  },
  {
   "cell_type": "code",
   "execution_count": 5,
   "metadata": {},
   "outputs": [
    {
     "data": {
      "text/plain": [
       "'https://raw.githubusercontent.com/lsst-pst/survey_strategy/main/fbs_2.0/runs_v2.0.json'"
      ]
     },
     "execution_count": 5,
     "metadata": {},
     "output_type": "execute_result"
    }
   ],
   "source": [
    "archive.FAMILY_SOURCE"
   ]
  },
  {
   "cell_type": "markdown",
   "metadata": {},
   "source": [
    "If you wish to load runs from an alternate source, it can be specified with the `family_source` argument to `get_family_descriptions`."
   ]
  },
  {
   "cell_type": "markdown",
   "metadata": {},
   "source": [
    "You can use the loaded data to get a list of available families:"
   ]
  },
  {
   "cell_type": "markdown",
   "metadata": {},
   "source": [
    "You can get more pleasantly formatted descriptions of the families using `archive.describe_families`:"
   ]
  },
  {
   "cell_type": "code",
   "execution_count": 6,
   "metadata": {},
   "outputs": [
    {
     "data": {
      "text/markdown": [
       "---\n",
       "**baseline** : The v2.0 baseline simulation. This features a modified survey footprint with expanded dust-free area and WFD-level visits in the Galactic Bulge and Magellanic Clouds. Coverage of the Northern Ecliptic Spur, South Celestial Pole, and remainder of the Galactic Plane is maintained, at lower levels. Filter balance is modified in different areas of the sky. A 2-region rolling cadence is used in the dust-free WFD sky, to improve cadence.   \n",
       "**version**: 2  \n",
       "**runs**:  \n"
      ]
     },
     "metadata": {},
     "output_type": "display_data"
    },
    {
     "data": {
      "text/html": [
       "<div>\n",
       "<style scoped>\n",
       "    .dataframe tbody tr th:only-of-type {\n",
       "        vertical-align: middle;\n",
       "    }\n",
       "\n",
       "    .dataframe tbody tr th {\n",
       "        vertical-align: top;\n",
       "    }\n",
       "\n",
       "    .dataframe thead th {\n",
       "        text-align: right;\n",
       "    }\n",
       "</style>\n",
       "<table border=\"1\" class=\"dataframe\">\n",
       "  <thead>\n",
       "    <tr style=\"text-align: right;\">\n",
       "      <th></th>\n",
       "      <th>run</th>\n",
       "      <th>filepath</th>\n",
       "    </tr>\n",
       "    <tr>\n",
       "      <th>brief</th>\n",
       "      <th></th>\n",
       "      <th></th>\n",
       "    </tr>\n",
       "  </thead>\n",
       "  <tbody>\n",
       "    <tr>\n",
       "      <th>v2.0 baseline</th>\n",
       "      <td>baseline_v2.0_10yrs</td>\n",
       "      <td>baseline/baseline_v2.0_10yrs.db</td>\n",
       "    </tr>\n",
       "  </tbody>\n",
       "</table>\n",
       "</div>"
      ],
      "text/plain": [
       "                               run                         filepath\n",
       "brief                                                              \n",
       "v2.0 baseline  baseline_v2.0_10yrs  baseline/baseline_v2.0_10yrs.db"
      ]
     },
     "metadata": {},
     "output_type": "display_data"
    },
    {
     "data": {
      "text/markdown": [
       "---\n",
       "**retro** : The retro family provides two simulations to bridge the gap between previous sets of simulations and the updated baseline. One (retro_baseline) uses the current code base to re-run the previous baseline (i.e. this is baseline_nexp2_v1.7.1_10yrs, but run with rubin_sim) while the other (retrofoot) uses updated code settings but re-creates the baseline_nexp2_v1.7.1_10yrs footprint. These are primarily intended to help users understand potential changes in their metric results from the 1.x series of runs to the v2.0 runs, as well as the modification from sims_maf to rubin_sim.  \n",
       "**version**: 2  \n",
       "**runs**:  \n"
      ]
     },
     "metadata": {},
     "output_type": "display_data"
    },
    {
     "data": {
      "text/html": [
       "<div>\n",
       "<style scoped>\n",
       "    .dataframe tbody tr th:only-of-type {\n",
       "        vertical-align: middle;\n",
       "    }\n",
       "\n",
       "    .dataframe tbody tr th {\n",
       "        vertical-align: top;\n",
       "    }\n",
       "\n",
       "    .dataframe thead th {\n",
       "        text-align: right;\n",
       "    }\n",
       "</style>\n",
       "<table border=\"1\" class=\"dataframe\">\n",
       "  <thead>\n",
       "    <tr style=\"text-align: right;\">\n",
       "      <th></th>\n",
       "      <th>run</th>\n",
       "      <th>filepath</th>\n",
       "    </tr>\n",
       "    <tr>\n",
       "      <th>brief</th>\n",
       "      <th></th>\n",
       "      <th></th>\n",
       "    </tr>\n",
       "  </thead>\n",
       "  <tbody>\n",
       "    <tr>\n",
       "      <th>v1.x footprint but new code capabilities</th>\n",
       "      <td>baseline_retrofoot_v2.0_10yrs</td>\n",
       "      <td>retro/baseline_retrofoot_v2.0_10yrs.db</td>\n",
       "    </tr>\n",
       "    <tr>\n",
       "      <th>v1.x baseline with rubin_sim (without new code capabilities)</th>\n",
       "      <td>retro_baseline_v2.0_10yrs</td>\n",
       "      <td>retro/retro_baseline_v2.0_10yrs.db</td>\n",
       "    </tr>\n",
       "  </tbody>\n",
       "</table>\n",
       "</div>"
      ],
      "text/plain": [
       "                                                                              run  \\\n",
       "brief                                                                               \n",
       "v1.x footprint but new code capabilities            baseline_retrofoot_v2.0_10yrs   \n",
       "v1.x baseline with rubin_sim (without new code ...      retro_baseline_v2.0_10yrs   \n",
       "\n",
       "                                                                                  filepath  \n",
       "brief                                                                                       \n",
       "v1.x footprint but new code capabilities            retro/baseline_retrofoot_v2.0_10yrs.db  \n",
       "v1.x baseline with rubin_sim (without new code ...      retro/retro_baseline_v2.0_10yrs.db  "
      ]
     },
     "metadata": {},
     "output_type": "display_data"
    }
   ],
   "source": [
    "archive.describe_families(families.loc[[\"baseline\", \"retro\"]])"
   ]
  },
  {
   "cell_type": "markdown",
   "metadata": {},
   "source": [
    "## Getting a table of runs"
   ]
  },
  {
   "cell_type": "markdown",
   "metadata": {},
   "source": [
    "You can download a `pandas.DataFrame` of runs with basic information on each using `get_runs`:"
   ]
  },
  {
   "cell_type": "code",
   "execution_count": 7,
   "metadata": {},
   "outputs": [
    {
     "data": {
      "text/html": [
       "<div>\n",
       "<style scoped>\n",
       "    .dataframe tbody tr th:only-of-type {\n",
       "        vertical-align: middle;\n",
       "    }\n",
       "\n",
       "    .dataframe tbody tr th {\n",
       "        vertical-align: top;\n",
       "    }\n",
       "\n",
       "    .dataframe thead th {\n",
       "        text-align: right;\n",
       "    }\n",
       "</style>\n",
       "<table border=\"1\" class=\"dataframe\">\n",
       "  <thead>\n",
       "    <tr style=\"text-align: right;\">\n",
       "      <th></th>\n",
       "      <th>family</th>\n",
       "      <th>version</th>\n",
       "      <th>brief</th>\n",
       "      <th>filepath</th>\n",
       "      <th>url</th>\n",
       "    </tr>\n",
       "    <tr>\n",
       "      <th>run</th>\n",
       "      <th></th>\n",
       "      <th></th>\n",
       "      <th></th>\n",
       "      <th></th>\n",
       "      <th></th>\n",
       "    </tr>\n",
       "  </thead>\n",
       "  <tbody>\n",
       "    <tr>\n",
       "      <th>baseline_retrofoot_v2.0_10yrs</th>\n",
       "      <td>[retro]</td>\n",
       "      <td>[2]</td>\n",
       "      <td>v1.x footprint but new code capabilities</td>\n",
       "      <td>retro/baseline_retrofoot_v2.0_10yrs.db</td>\n",
       "      <td>http://epyc.astro.washington.edu/~lynnej/opsim...</td>\n",
       "    </tr>\n",
       "    <tr>\n",
       "      <th>baseline_v2.0_10yrs</th>\n",
       "      <td>[baseline]</td>\n",
       "      <td>[2]</td>\n",
       "      <td>v2.0 baseline</td>\n",
       "      <td>baseline/baseline_v2.0_10yrs.db</td>\n",
       "      <td>http://epyc.astro.washington.edu/~lynnej/opsim...</td>\n",
       "    </tr>\n",
       "    <tr>\n",
       "      <th>bluer_indx0_v2.0_10yrs</th>\n",
       "      <td>[bluer]</td>\n",
       "      <td>[2]</td>\n",
       "      <td>More g - filter ratio in WFD of {'u': 0.07, 'g...</td>\n",
       "      <td>bluer/bluer_indx0_v2.0_10yrs.db</td>\n",
       "      <td>http://epyc.astro.washington.edu/~lynnej/opsim...</td>\n",
       "    </tr>\n",
       "    <tr>\n",
       "      <th>bluer_indx1_v2.0_10yrs</th>\n",
       "      <td>[bluer]</td>\n",
       "      <td>[2]</td>\n",
       "      <td>More u and g - filter ratio in WFD of {'u': 0....</td>\n",
       "      <td>bluer/bluer_indx1_v2.0_10yrs.db</td>\n",
       "      <td>http://epyc.astro.washington.edu/~lynnej/opsim...</td>\n",
       "    </tr>\n",
       "    <tr>\n",
       "      <th>carina_v2.0_10yrs</th>\n",
       "      <td>[microsurveys]</td>\n",
       "      <td>[2]</td>\n",
       "      <td>One week per year observing Carina</td>\n",
       "      <td>microsurveys/virgo_cluster/virgo_cluster_v2.0_...</td>\n",
       "      <td>http://epyc.astro.washington.edu/~lynnej/opsim...</td>\n",
       "    </tr>\n",
       "    <tr>\n",
       "      <th>...</th>\n",
       "      <td>...</td>\n",
       "      <td>...</td>\n",
       "      <td>...</td>\n",
       "      <td>...</td>\n",
       "      <td>...</td>\n",
       "    </tr>\n",
       "    <tr>\n",
       "      <th>vary_nes_nesfrac0.50_v2.0_10yrs</th>\n",
       "      <td>[vary_nes]</td>\n",
       "      <td>[2]</td>\n",
       "      <td>NES at 50% WFD level</td>\n",
       "      <td>vary_nes/vary_nes_nesfrac0.50_v2.0_10yrs.db</td>\n",
       "      <td>http://epyc.astro.washington.edu/~lynnej/opsim...</td>\n",
       "    </tr>\n",
       "    <tr>\n",
       "      <th>vary_nes_nesfrac0.55_v2.0_10yrs</th>\n",
       "      <td>[vary_nes]</td>\n",
       "      <td>[2]</td>\n",
       "      <td>NES at 55% WFD level</td>\n",
       "      <td>vary_nes/vary_nes_nesfrac0.55_v2.0_10yrs.db</td>\n",
       "      <td>http://epyc.astro.washington.edu/~lynnej/opsim...</td>\n",
       "    </tr>\n",
       "    <tr>\n",
       "      <th>vary_nes_nesfrac0.75_v2.0_10yrs</th>\n",
       "      <td>[vary_nes]</td>\n",
       "      <td>[2]</td>\n",
       "      <td>NES at 75% WFD level</td>\n",
       "      <td>vary_nes/vary_nes_nesfrac0.75_v2.0_10yrs.db</td>\n",
       "      <td>http://epyc.astro.washington.edu/~lynnej/opsim...</td>\n",
       "    </tr>\n",
       "    <tr>\n",
       "      <th>vary_nes_nesfrac1.00_v2.0_10yrs</th>\n",
       "      <td>[vary_nes]</td>\n",
       "      <td>[2]</td>\n",
       "      <td>NES at 100% WFD level</td>\n",
       "      <td>vary_nes/vary_nes_nesfrac1.00_v2.0_10yrs.db</td>\n",
       "      <td>http://epyc.astro.washington.edu/~lynnej/opsim...</td>\n",
       "    </tr>\n",
       "    <tr>\n",
       "      <th>virgo_cluster_v2.0_10yrs</th>\n",
       "      <td>[microsurveys]</td>\n",
       "      <td>[2]</td>\n",
       "      <td>Add the virgo cluster to WFD footprint</td>\n",
       "      <td>microsurveys/roman/roman_v2.0_10yrs.db</td>\n",
       "      <td>http://epyc.astro.washington.edu/~lynnej/opsim...</td>\n",
       "    </tr>\n",
       "  </tbody>\n",
       "</table>\n",
       "<p>126 rows × 5 columns</p>\n",
       "</div>"
      ],
      "text/plain": [
       "                                         family version  \\\n",
       "run                                                       \n",
       "baseline_retrofoot_v2.0_10yrs           [retro]     [2]   \n",
       "baseline_v2.0_10yrs                  [baseline]     [2]   \n",
       "bluer_indx0_v2.0_10yrs                  [bluer]     [2]   \n",
       "bluer_indx1_v2.0_10yrs                  [bluer]     [2]   \n",
       "carina_v2.0_10yrs                [microsurveys]     [2]   \n",
       "...                                         ...     ...   \n",
       "vary_nes_nesfrac0.50_v2.0_10yrs      [vary_nes]     [2]   \n",
       "vary_nes_nesfrac0.55_v2.0_10yrs      [vary_nes]     [2]   \n",
       "vary_nes_nesfrac0.75_v2.0_10yrs      [vary_nes]     [2]   \n",
       "vary_nes_nesfrac1.00_v2.0_10yrs      [vary_nes]     [2]   \n",
       "virgo_cluster_v2.0_10yrs         [microsurveys]     [2]   \n",
       "\n",
       "                                                                             brief  \\\n",
       "run                                                                                  \n",
       "baseline_retrofoot_v2.0_10yrs             v1.x footprint but new code capabilities   \n",
       "baseline_v2.0_10yrs                                                  v2.0 baseline   \n",
       "bluer_indx0_v2.0_10yrs           More g - filter ratio in WFD of {'u': 0.07, 'g...   \n",
       "bluer_indx1_v2.0_10yrs           More u and g - filter ratio in WFD of {'u': 0....   \n",
       "carina_v2.0_10yrs                               One week per year observing Carina   \n",
       "...                                                                            ...   \n",
       "vary_nes_nesfrac0.50_v2.0_10yrs                               NES at 50% WFD level   \n",
       "vary_nes_nesfrac0.55_v2.0_10yrs                               NES at 55% WFD level   \n",
       "vary_nes_nesfrac0.75_v2.0_10yrs                               NES at 75% WFD level   \n",
       "vary_nes_nesfrac1.00_v2.0_10yrs                              NES at 100% WFD level   \n",
       "virgo_cluster_v2.0_10yrs                    Add the virgo cluster to WFD footprint   \n",
       "\n",
       "                                                                          filepath  \\\n",
       "run                                                                                  \n",
       "baseline_retrofoot_v2.0_10yrs               retro/baseline_retrofoot_v2.0_10yrs.db   \n",
       "baseline_v2.0_10yrs                                baseline/baseline_v2.0_10yrs.db   \n",
       "bluer_indx0_v2.0_10yrs                             bluer/bluer_indx0_v2.0_10yrs.db   \n",
       "bluer_indx1_v2.0_10yrs                             bluer/bluer_indx1_v2.0_10yrs.db   \n",
       "carina_v2.0_10yrs                microsurveys/virgo_cluster/virgo_cluster_v2.0_...   \n",
       "...                                                                            ...   \n",
       "vary_nes_nesfrac0.50_v2.0_10yrs        vary_nes/vary_nes_nesfrac0.50_v2.0_10yrs.db   \n",
       "vary_nes_nesfrac0.55_v2.0_10yrs        vary_nes/vary_nes_nesfrac0.55_v2.0_10yrs.db   \n",
       "vary_nes_nesfrac0.75_v2.0_10yrs        vary_nes/vary_nes_nesfrac0.75_v2.0_10yrs.db   \n",
       "vary_nes_nesfrac1.00_v2.0_10yrs        vary_nes/vary_nes_nesfrac1.00_v2.0_10yrs.db   \n",
       "virgo_cluster_v2.0_10yrs                    microsurveys/roman/roman_v2.0_10yrs.db   \n",
       "\n",
       "                                                                               url  \n",
       "run                                                                                 \n",
       "baseline_retrofoot_v2.0_10yrs    http://epyc.astro.washington.edu/~lynnej/opsim...  \n",
       "baseline_v2.0_10yrs              http://epyc.astro.washington.edu/~lynnej/opsim...  \n",
       "bluer_indx0_v2.0_10yrs           http://epyc.astro.washington.edu/~lynnej/opsim...  \n",
       "bluer_indx1_v2.0_10yrs           http://epyc.astro.washington.edu/~lynnej/opsim...  \n",
       "carina_v2.0_10yrs                http://epyc.astro.washington.edu/~lynnej/opsim...  \n",
       "...                                                                            ...  \n",
       "vary_nes_nesfrac0.50_v2.0_10yrs  http://epyc.astro.washington.edu/~lynnej/opsim...  \n",
       "vary_nes_nesfrac0.55_v2.0_10yrs  http://epyc.astro.washington.edu/~lynnej/opsim...  \n",
       "vary_nes_nesfrac0.75_v2.0_10yrs  http://epyc.astro.washington.edu/~lynnej/opsim...  \n",
       "vary_nes_nesfrac1.00_v2.0_10yrs  http://epyc.astro.washington.edu/~lynnej/opsim...  \n",
       "virgo_cluster_v2.0_10yrs         http://epyc.astro.washington.edu/~lynnej/opsim...  \n",
       "\n",
       "[126 rows x 5 columns]"
      ]
     },
     "execution_count": 7,
     "metadata": {},
     "output_type": "execute_result"
    }
   ],
   "source": [
    "runs = archive.get_runs()\n",
    "runs"
   ]
  },
  {
   "cell_type": "markdown",
   "metadata": {},
   "source": [
    "By default, `get_runs` retrives the runs data from the same json file as `archive.get_family_descriptions`, and also has an argument to download the data from a different source.\n",
    "\n",
    "`get_family_descriptions` and `get_runs` load the same data, but the former is indexed by families, with one row per family; and the later by runs, with one row per run. In the former case, values that vary by run for the same family have list values, while in the later case values that vary by family for the same run have list values.\n",
    "\n",
    "If you want a `DataFrame` with one row per run/family combination, such that there are no columns with list-valued cells, you can `explode` the `pandas.DataFrame` returned by `get_runs` (or `get_family_descriptions`) and set the `family` column to be the index, or use the `get_family_runs` shorthand:"
   ]
  },
  {
   "cell_type": "code",
   "execution_count": 8,
   "metadata": {},
   "outputs": [
    {
     "data": {
      "text/html": [
       "<div>\n",
       "<style scoped>\n",
       "    .dataframe tbody tr th:only-of-type {\n",
       "        vertical-align: middle;\n",
       "    }\n",
       "\n",
       "    .dataframe tbody tr th {\n",
       "        vertical-align: top;\n",
       "    }\n",
       "\n",
       "    .dataframe thead th {\n",
       "        text-align: right;\n",
       "    }\n",
       "</style>\n",
       "<table border=\"1\" class=\"dataframe\">\n",
       "  <thead>\n",
       "    <tr style=\"text-align: right;\">\n",
       "      <th></th>\n",
       "      <th>run</th>\n",
       "      <th>brief</th>\n",
       "      <th>filepath</th>\n",
       "      <th>version</th>\n",
       "      <th>reference</th>\n",
       "      <th>description</th>\n",
       "      <th>url</th>\n",
       "    </tr>\n",
       "    <tr>\n",
       "      <th>family</th>\n",
       "      <th></th>\n",
       "      <th></th>\n",
       "      <th></th>\n",
       "      <th></th>\n",
       "      <th></th>\n",
       "      <th></th>\n",
       "      <th></th>\n",
       "    </tr>\n",
       "  </thead>\n",
       "  <tbody>\n",
       "    <tr>\n",
       "      <th>baseline</th>\n",
       "      <td>baseline_v2.0_10yrs</td>\n",
       "      <td>v2.0 baseline</td>\n",
       "      <td>baseline/baseline_v2.0_10yrs.db</td>\n",
       "      <td>2</td>\n",
       "      <td>baseline_v2.0_10yrs</td>\n",
       "      <td>**baseline** : The v2.0 baseline simulation. T...</td>\n",
       "      <td>http://epyc.astro.washington.edu/~lynnej/opsim...</td>\n",
       "    </tr>\n",
       "    <tr>\n",
       "      <th>retro</th>\n",
       "      <td>baseline_retrofoot_v2.0_10yrs</td>\n",
       "      <td>v1.x footprint but new code capabilities</td>\n",
       "      <td>retro/baseline_retrofoot_v2.0_10yrs.db</td>\n",
       "      <td>2</td>\n",
       "      <td>baseline_v2.0_10yrs</td>\n",
       "      <td>**retro** : The retro family provides two simu...</td>\n",
       "      <td>http://epyc.astro.washington.edu/~lynnej/opsim...</td>\n",
       "    </tr>\n",
       "    <tr>\n",
       "      <th>retro</th>\n",
       "      <td>retro_baseline_v2.0_10yrs</td>\n",
       "      <td>v1.x baseline with rubin_sim (without new code...</td>\n",
       "      <td>retro/retro_baseline_v2.0_10yrs.db</td>\n",
       "      <td>2</td>\n",
       "      <td>baseline_v2.0_10yrs</td>\n",
       "      <td>**retro** : The retro family provides two simu...</td>\n",
       "      <td>http://epyc.astro.washington.edu/~lynnej/opsim...</td>\n",
       "    </tr>\n",
       "    <tr>\n",
       "      <th>rolling</th>\n",
       "      <td>rolling_ns2_rw0.5_v2.0_10yrs</td>\n",
       "      <td>Rolling half-sky (2 regions) 50%</td>\n",
       "      <td>rolling/rolling_ns2_rw0.5_v2.0_10yrs.db</td>\n",
       "      <td>2</td>\n",
       "      <td>baseline_v2.0_10yrs</td>\n",
       "      <td>**rolling** : The updated baseline contains a ...</td>\n",
       "      <td>http://epyc.astro.washington.edu/~lynnej/opsim...</td>\n",
       "    </tr>\n",
       "    <tr>\n",
       "      <th>rolling</th>\n",
       "      <td>rolling_ns3_rw0.5_v2.0_10yrs</td>\n",
       "      <td>Rolling third-sky (3 regions) 50%</td>\n",
       "      <td>rolling/rolling_ns2_rw0.9_v2.0_10yrs.db</td>\n",
       "      <td>2</td>\n",
       "      <td>baseline_v2.0_10yrs</td>\n",
       "      <td>**rolling** : The updated baseline contains a ...</td>\n",
       "      <td>http://epyc.astro.washington.edu/~lynnej/opsim...</td>\n",
       "    </tr>\n",
       "    <tr>\n",
       "      <th>...</th>\n",
       "      <td>...</td>\n",
       "      <td>...</td>\n",
       "      <td>...</td>\n",
       "      <td>...</td>\n",
       "      <td>...</td>\n",
       "      <td>...</td>\n",
       "      <td>...</td>\n",
       "    </tr>\n",
       "    <tr>\n",
       "      <th>microsurveys</th>\n",
       "      <td>twilight_neo_nightpattern3v2.0_10yrs</td>\n",
       "      <td>Twilight neo observations 1 night on 2 off</td>\n",
       "      <td>microsurveys/local_gals/local_gal_bindx0_v2.0_...</td>\n",
       "      <td>2</td>\n",
       "      <td>baseline_v2.0_10yrs</td>\n",
       "      <td>**microsurveys** : There are special programs ...</td>\n",
       "      <td>http://epyc.astro.washington.edu/~lynnej/opsim...</td>\n",
       "    </tr>\n",
       "    <tr>\n",
       "      <th>microsurveys</th>\n",
       "      <td>twilight_neo_nightpattern6v2.0_10yrs</td>\n",
       "      <td>Twilight neo observations 3 night on 4 off</td>\n",
       "      <td>microsurveys/carina/carina_v2.0_10yrs.db</td>\n",
       "      <td>2</td>\n",
       "      <td>baseline_v2.0_10yrs</td>\n",
       "      <td>**microsurveys** : There are special programs ...</td>\n",
       "      <td>http://epyc.astro.washington.edu/~lynnej/opsim...</td>\n",
       "    </tr>\n",
       "    <tr>\n",
       "      <th>microsurveys</th>\n",
       "      <td>twilight_neo_nightpattern5v2.0_10yrs</td>\n",
       "      <td>Twilight neo observations 4 night on 4 off</td>\n",
       "      <td>microsurveys/short_exp/short_exp_v2.0_10yrs.db</td>\n",
       "      <td>2</td>\n",
       "      <td>baseline_v2.0_10yrs</td>\n",
       "      <td>**microsurveys** : There are special programs ...</td>\n",
       "      <td>http://epyc.astro.washington.edu/~lynnej/opsim...</td>\n",
       "    </tr>\n",
       "    <tr>\n",
       "      <th>microsurveys</th>\n",
       "      <td>twilight_neo_nightpattern2v2.0_10yrs</td>\n",
       "      <td>Twilight neo observations every other night</td>\n",
       "      <td>microsurveys/smc_movie/smc_movie_v2.0_10yrs.db</td>\n",
       "      <td>2</td>\n",
       "      <td>baseline_v2.0_10yrs</td>\n",
       "      <td>**microsurveys** : There are special programs ...</td>\n",
       "      <td>http://epyc.astro.washington.edu/~lynnej/opsim...</td>\n",
       "    </tr>\n",
       "    <tr>\n",
       "      <th>microsurveys</th>\n",
       "      <td>twilight_neo_nightpattern1v2.0_10yrs</td>\n",
       "      <td>Twilight neo observations every night</td>\n",
       "      <td>microsurveys/multi_short/multi_short_v2.0_10yr...</td>\n",
       "      <td>2</td>\n",
       "      <td>baseline_v2.0_10yrs</td>\n",
       "      <td>**microsurveys** : There are special programs ...</td>\n",
       "      <td>http://epyc.astro.washington.edu/~lynnej/opsim...</td>\n",
       "    </tr>\n",
       "  </tbody>\n",
       "</table>\n",
       "<p>126 rows × 7 columns</p>\n",
       "</div>"
      ],
      "text/plain": [
       "                                               run  \\\n",
       "family                                               \n",
       "baseline                       baseline_v2.0_10yrs   \n",
       "retro                baseline_retrofoot_v2.0_10yrs   \n",
       "retro                    retro_baseline_v2.0_10yrs   \n",
       "rolling               rolling_ns2_rw0.5_v2.0_10yrs   \n",
       "rolling               rolling_ns3_rw0.5_v2.0_10yrs   \n",
       "...                                            ...   \n",
       "microsurveys  twilight_neo_nightpattern3v2.0_10yrs   \n",
       "microsurveys  twilight_neo_nightpattern6v2.0_10yrs   \n",
       "microsurveys  twilight_neo_nightpattern5v2.0_10yrs   \n",
       "microsurveys  twilight_neo_nightpattern2v2.0_10yrs   \n",
       "microsurveys  twilight_neo_nightpattern1v2.0_10yrs   \n",
       "\n",
       "                                                          brief  \\\n",
       "family                                                            \n",
       "baseline                                          v2.0 baseline   \n",
       "retro                  v1.x footprint but new code capabilities   \n",
       "retro         v1.x baseline with rubin_sim (without new code...   \n",
       "rolling                        Rolling half-sky (2 regions) 50%   \n",
       "rolling                       Rolling third-sky (3 regions) 50%   \n",
       "...                                                         ...   \n",
       "microsurveys         Twilight neo observations 1 night on 2 off   \n",
       "microsurveys         Twilight neo observations 3 night on 4 off   \n",
       "microsurveys         Twilight neo observations 4 night on 4 off   \n",
       "microsurveys        Twilight neo observations every other night   \n",
       "microsurveys              Twilight neo observations every night   \n",
       "\n",
       "                                                       filepath  version  \\\n",
       "family                                                                     \n",
       "baseline                        baseline/baseline_v2.0_10yrs.db        2   \n",
       "retro                    retro/baseline_retrofoot_v2.0_10yrs.db        2   \n",
       "retro                        retro/retro_baseline_v2.0_10yrs.db        2   \n",
       "rolling                 rolling/rolling_ns2_rw0.5_v2.0_10yrs.db        2   \n",
       "rolling                 rolling/rolling_ns2_rw0.9_v2.0_10yrs.db        2   \n",
       "...                                                         ...      ...   \n",
       "microsurveys  microsurveys/local_gals/local_gal_bindx0_v2.0_...        2   \n",
       "microsurveys           microsurveys/carina/carina_v2.0_10yrs.db        2   \n",
       "microsurveys     microsurveys/short_exp/short_exp_v2.0_10yrs.db        2   \n",
       "microsurveys     microsurveys/smc_movie/smc_movie_v2.0_10yrs.db        2   \n",
       "microsurveys  microsurveys/multi_short/multi_short_v2.0_10yr...        2   \n",
       "\n",
       "                        reference  \\\n",
       "family                              \n",
       "baseline      baseline_v2.0_10yrs   \n",
       "retro         baseline_v2.0_10yrs   \n",
       "retro         baseline_v2.0_10yrs   \n",
       "rolling       baseline_v2.0_10yrs   \n",
       "rolling       baseline_v2.0_10yrs   \n",
       "...                           ...   \n",
       "microsurveys  baseline_v2.0_10yrs   \n",
       "microsurveys  baseline_v2.0_10yrs   \n",
       "microsurveys  baseline_v2.0_10yrs   \n",
       "microsurveys  baseline_v2.0_10yrs   \n",
       "microsurveys  baseline_v2.0_10yrs   \n",
       "\n",
       "                                                    description  \\\n",
       "family                                                            \n",
       "baseline      **baseline** : The v2.0 baseline simulation. T...   \n",
       "retro         **retro** : The retro family provides two simu...   \n",
       "retro         **retro** : The retro family provides two simu...   \n",
       "rolling       **rolling** : The updated baseline contains a ...   \n",
       "rolling       **rolling** : The updated baseline contains a ...   \n",
       "...                                                         ...   \n",
       "microsurveys  **microsurveys** : There are special programs ...   \n",
       "microsurveys  **microsurveys** : There are special programs ...   \n",
       "microsurveys  **microsurveys** : There are special programs ...   \n",
       "microsurveys  **microsurveys** : There are special programs ...   \n",
       "microsurveys  **microsurveys** : There are special programs ...   \n",
       "\n",
       "                                                            url  \n",
       "family                                                           \n",
       "baseline      http://epyc.astro.washington.edu/~lynnej/opsim...  \n",
       "retro         http://epyc.astro.washington.edu/~lynnej/opsim...  \n",
       "retro         http://epyc.astro.washington.edu/~lynnej/opsim...  \n",
       "rolling       http://epyc.astro.washington.edu/~lynnej/opsim...  \n",
       "rolling       http://epyc.astro.washington.edu/~lynnej/opsim...  \n",
       "...                                                         ...  \n",
       "microsurveys  http://epyc.astro.washington.edu/~lynnej/opsim...  \n",
       "microsurveys  http://epyc.astro.washington.edu/~lynnej/opsim...  \n",
       "microsurveys  http://epyc.astro.washington.edu/~lynnej/opsim...  \n",
       "microsurveys  http://epyc.astro.washington.edu/~lynnej/opsim...  \n",
       "microsurveys  http://epyc.astro.washington.edu/~lynnej/opsim...  \n",
       "\n",
       "[126 rows x 7 columns]"
      ]
     },
     "execution_count": 8,
     "metadata": {},
     "output_type": "execute_result"
    }
   ],
   "source": [
    "family_runs = archive.get_family_runs()\n",
    "family_runs"
   ]
  },
  {
   "cell_type": "markdown",
   "metadata": {},
   "source": [
    "This makes it easy to reference just the runs from a family (or set of families) of interest.\n",
    "\n",
    "`get_family_runs` reads the run metadata from the same source as `get_runs`, and (like `get_runs`) alternate sources can be specified by an argument.\n",
    "\n",
    "First, let's look at a list of all families, and how many runs are in each:"
   ]
  },
  {
   "cell_type": "code",
   "execution_count": 9,
   "metadata": {},
   "outputs": [
    {
     "data": {
      "text/html": [
       "<div>\n",
       "<style scoped>\n",
       "    .dataframe tbody tr th:only-of-type {\n",
       "        vertical-align: middle;\n",
       "    }\n",
       "\n",
       "    .dataframe tbody tr th {\n",
       "        vertical-align: top;\n",
       "    }\n",
       "\n",
       "    .dataframe thead th {\n",
       "        text-align: right;\n",
       "    }\n",
       "</style>\n",
       "<table border=\"1\" class=\"dataframe\">\n",
       "  <thead>\n",
       "    <tr style=\"text-align: right;\">\n",
       "      <th></th>\n",
       "      <th>run</th>\n",
       "    </tr>\n",
       "    <tr>\n",
       "      <th>family</th>\n",
       "      <th></th>\n",
       "    </tr>\n",
       "  </thead>\n",
       "  <tbody>\n",
       "    <tr>\n",
       "      <th>baseline</th>\n",
       "      <td>1</td>\n",
       "    </tr>\n",
       "    <tr>\n",
       "      <th>bluer</th>\n",
       "      <td>2</td>\n",
       "    </tr>\n",
       "    <tr>\n",
       "      <th>ddf</th>\n",
       "      <td>2</td>\n",
       "    </tr>\n",
       "    <tr>\n",
       "      <th>long_gaps</th>\n",
       "      <td>16</td>\n",
       "    </tr>\n",
       "    <tr>\n",
       "      <th>long_gaps_nopair</th>\n",
       "      <td>16</td>\n",
       "    </tr>\n",
       "    <tr>\n",
       "      <th>long_u</th>\n",
       "      <td>2</td>\n",
       "    </tr>\n",
       "    <tr>\n",
       "      <th>microsurveys</th>\n",
       "      <td>19</td>\n",
       "    </tr>\n",
       "    <tr>\n",
       "      <th>noroll</th>\n",
       "      <td>1</td>\n",
       "    </tr>\n",
       "    <tr>\n",
       "      <th>presto</th>\n",
       "      <td>12</td>\n",
       "    </tr>\n",
       "    <tr>\n",
       "      <th>presto_half</th>\n",
       "      <td>12</td>\n",
       "    </tr>\n",
       "    <tr>\n",
       "      <th>retro</th>\n",
       "      <td>2</td>\n",
       "    </tr>\n",
       "    <tr>\n",
       "      <th>rolling</th>\n",
       "      <td>4</td>\n",
       "    </tr>\n",
       "    <tr>\n",
       "      <th>rolling_all_sky</th>\n",
       "      <td>1</td>\n",
       "    </tr>\n",
       "    <tr>\n",
       "      <th>rolling_bulge</th>\n",
       "      <td>3</td>\n",
       "    </tr>\n",
       "    <tr>\n",
       "      <th>rolling_bulge_6</th>\n",
       "      <td>1</td>\n",
       "    </tr>\n",
       "    <tr>\n",
       "      <th>rolling_early</th>\n",
       "      <td>1</td>\n",
       "    </tr>\n",
       "    <tr>\n",
       "      <th>rolling_six</th>\n",
       "      <td>2</td>\n",
       "    </tr>\n",
       "    <tr>\n",
       "      <th>vary_expt</th>\n",
       "      <td>1</td>\n",
       "    </tr>\n",
       "    <tr>\n",
       "      <th>vary_gp</th>\n",
       "      <td>14</td>\n",
       "    </tr>\n",
       "    <tr>\n",
       "      <th>vary_nes</th>\n",
       "      <td>14</td>\n",
       "    </tr>\n",
       "  </tbody>\n",
       "</table>\n",
       "</div>"
      ],
      "text/plain": [
       "                  run\n",
       "family               \n",
       "baseline            1\n",
       "bluer               2\n",
       "ddf                 2\n",
       "long_gaps          16\n",
       "long_gaps_nopair   16\n",
       "long_u              2\n",
       "microsurveys       19\n",
       "noroll              1\n",
       "presto             12\n",
       "presto_half        12\n",
       "retro               2\n",
       "rolling             4\n",
       "rolling_all_sky     1\n",
       "rolling_bulge       3\n",
       "rolling_bulge_6     1\n",
       "rolling_early       1\n",
       "rolling_six         2\n",
       "vary_expt           1\n",
       "vary_gp            14\n",
       "vary_nes           14"
      ]
     },
     "execution_count": 9,
     "metadata": {},
     "output_type": "execute_result"
    }
   ],
   "source": [
    "family_runs.groupby(\"family\").agg({\"run\": \"count\"})"
   ]
  },
  {
   "cell_type": "markdown",
   "metadata": {},
   "source": [
    "If I want to work with just runs in `baseline` or `rolling`, I can build `pandas.DataFrame` of such runs by slicing `family_runs`:"
   ]
  },
  {
   "cell_type": "code",
   "execution_count": 10,
   "metadata": {},
   "outputs": [
    {
     "data": {
      "text/html": [
       "<div>\n",
       "<style scoped>\n",
       "    .dataframe tbody tr th:only-of-type {\n",
       "        vertical-align: middle;\n",
       "    }\n",
       "\n",
       "    .dataframe tbody tr th {\n",
       "        vertical-align: top;\n",
       "    }\n",
       "\n",
       "    .dataframe thead th {\n",
       "        text-align: right;\n",
       "    }\n",
       "</style>\n",
       "<table border=\"1\" class=\"dataframe\">\n",
       "  <thead>\n",
       "    <tr style=\"text-align: right;\">\n",
       "      <th></th>\n",
       "      <th>run</th>\n",
       "      <th>brief</th>\n",
       "      <th>filepath</th>\n",
       "      <th>version</th>\n",
       "      <th>reference</th>\n",
       "      <th>description</th>\n",
       "      <th>url</th>\n",
       "    </tr>\n",
       "    <tr>\n",
       "      <th>family</th>\n",
       "      <th></th>\n",
       "      <th></th>\n",
       "      <th></th>\n",
       "      <th></th>\n",
       "      <th></th>\n",
       "      <th></th>\n",
       "      <th></th>\n",
       "    </tr>\n",
       "  </thead>\n",
       "  <tbody>\n",
       "    <tr>\n",
       "      <th>baseline</th>\n",
       "      <td>baseline_v2.0_10yrs</td>\n",
       "      <td>v2.0 baseline</td>\n",
       "      <td>baseline/baseline_v2.0_10yrs.db</td>\n",
       "      <td>2</td>\n",
       "      <td>baseline_v2.0_10yrs</td>\n",
       "      <td>**baseline** : The v2.0 baseline simulation. T...</td>\n",
       "      <td>http://epyc.astro.washington.edu/~lynnej/opsim...</td>\n",
       "    </tr>\n",
       "    <tr>\n",
       "      <th>rolling</th>\n",
       "      <td>rolling_ns2_rw0.5_v2.0_10yrs</td>\n",
       "      <td>Rolling half-sky (2 regions) 50%</td>\n",
       "      <td>rolling/rolling_ns2_rw0.5_v2.0_10yrs.db</td>\n",
       "      <td>2</td>\n",
       "      <td>baseline_v2.0_10yrs</td>\n",
       "      <td>**rolling** : The updated baseline contains a ...</td>\n",
       "      <td>http://epyc.astro.washington.edu/~lynnej/opsim...</td>\n",
       "    </tr>\n",
       "    <tr>\n",
       "      <th>rolling</th>\n",
       "      <td>rolling_ns3_rw0.5_v2.0_10yrs</td>\n",
       "      <td>Rolling third-sky (3 regions) 50%</td>\n",
       "      <td>rolling/rolling_ns2_rw0.9_v2.0_10yrs.db</td>\n",
       "      <td>2</td>\n",
       "      <td>baseline_v2.0_10yrs</td>\n",
       "      <td>**rolling** : The updated baseline contains a ...</td>\n",
       "      <td>http://epyc.astro.washington.edu/~lynnej/opsim...</td>\n",
       "    </tr>\n",
       "    <tr>\n",
       "      <th>rolling</th>\n",
       "      <td>rolling_ns2_rw0.9_v2.0_10yrs</td>\n",
       "      <td>Rolling half-sky (2 regions) 90%</td>\n",
       "      <td>rolling/rolling_ns3_rw0.5_v2.0_10yrs.db</td>\n",
       "      <td>2</td>\n",
       "      <td>baseline_v2.0_10yrs</td>\n",
       "      <td>**rolling** : The updated baseline contains a ...</td>\n",
       "      <td>http://epyc.astro.washington.edu/~lynnej/opsim...</td>\n",
       "    </tr>\n",
       "    <tr>\n",
       "      <th>rolling</th>\n",
       "      <td>rolling_ns3_rw0.9_v2.0_10yrs</td>\n",
       "      <td>Rolling third-sky (3 regions) 90%</td>\n",
       "      <td>rolling/rolling_ns3_rw0.9_v2.0_10yrs.db</td>\n",
       "      <td>2</td>\n",
       "      <td>baseline_v2.0_10yrs</td>\n",
       "      <td>**rolling** : The updated baseline contains a ...</td>\n",
       "      <td>http://epyc.astro.washington.edu/~lynnej/opsim...</td>\n",
       "    </tr>\n",
       "  </tbody>\n",
       "</table>\n",
       "</div>"
      ],
      "text/plain": [
       "                                   run                              brief  \\\n",
       "family                                                                      \n",
       "baseline           baseline_v2.0_10yrs                      v2.0 baseline   \n",
       "rolling   rolling_ns2_rw0.5_v2.0_10yrs   Rolling half-sky (2 regions) 50%   \n",
       "rolling   rolling_ns3_rw0.5_v2.0_10yrs  Rolling third-sky (3 regions) 50%   \n",
       "rolling   rolling_ns2_rw0.9_v2.0_10yrs   Rolling half-sky (2 regions) 90%   \n",
       "rolling   rolling_ns3_rw0.9_v2.0_10yrs  Rolling third-sky (3 regions) 90%   \n",
       "\n",
       "                                         filepath  version  \\\n",
       "family                                                       \n",
       "baseline          baseline/baseline_v2.0_10yrs.db        2   \n",
       "rolling   rolling/rolling_ns2_rw0.5_v2.0_10yrs.db        2   \n",
       "rolling   rolling/rolling_ns2_rw0.9_v2.0_10yrs.db        2   \n",
       "rolling   rolling/rolling_ns3_rw0.5_v2.0_10yrs.db        2   \n",
       "rolling   rolling/rolling_ns3_rw0.9_v2.0_10yrs.db        2   \n",
       "\n",
       "                    reference  \\\n",
       "family                          \n",
       "baseline  baseline_v2.0_10yrs   \n",
       "rolling   baseline_v2.0_10yrs   \n",
       "rolling   baseline_v2.0_10yrs   \n",
       "rolling   baseline_v2.0_10yrs   \n",
       "rolling   baseline_v2.0_10yrs   \n",
       "\n",
       "                                                description  \\\n",
       "family                                                        \n",
       "baseline  **baseline** : The v2.0 baseline simulation. T...   \n",
       "rolling   **rolling** : The updated baseline contains a ...   \n",
       "rolling   **rolling** : The updated baseline contains a ...   \n",
       "rolling   **rolling** : The updated baseline contains a ...   \n",
       "rolling   **rolling** : The updated baseline contains a ...   \n",
       "\n",
       "                                                        url  \n",
       "family                                                       \n",
       "baseline  http://epyc.astro.washington.edu/~lynnej/opsim...  \n",
       "rolling   http://epyc.astro.washington.edu/~lynnej/opsim...  \n",
       "rolling   http://epyc.astro.washington.edu/~lynnej/opsim...  \n",
       "rolling   http://epyc.astro.washington.edu/~lynnej/opsim...  \n",
       "rolling   http://epyc.astro.washington.edu/~lynnej/opsim...  "
      ]
     },
     "execution_count": 10,
     "metadata": {},
     "output_type": "execute_result"
    }
   ],
   "source": [
    "my_runs = family_runs.loc[[\"baseline\", \"rolling\"]]\n",
    "my_runs"
   ]
  },
  {
   "cell_type": "markdown",
   "metadata": {},
   "source": [
    "## Getting summary metrics on runs"
   ]
  },
  {
   "cell_type": "markdown",
   "metadata": {},
   "source": [
    "`get_metric_summaries` will retrieve the \"summary\" results of MAF for these runs into a `pandas.DataFrame`. It can either be called with no arguments (in which case it will get all summary metrics for all runs), or you can supply argumets to specificy which runs, run familes, and metrics you want. Be default, summary data is downloaded from the URL specified by `archive.DEFAULT_SUMMARY_SOURCE`. Users may pass an alternate source (URL or file name) to `get_metric_summaries` to load the data from elsewhere."
   ]
  },
  {
   "cell_type": "code",
   "execution_count": 11,
   "metadata": {},
   "outputs": [
    {
     "data": {
      "text/plain": [
       "'https://raw.githubusercontent.com/lsst-pst/survey_strategy/main/fbs_2.0/summary_11_8.csv'"
      ]
     },
     "execution_count": 11,
     "metadata": {},
     "output_type": "execute_result"
    }
   ],
   "source": [
    "archive.SUMMARY_SOURCE"
   ]
  },
  {
   "cell_type": "markdown",
   "metadata": {},
   "source": [
    "For example, to get only metrics on runs in the `version_baselines` family:"
   ]
  },
  {
   "cell_type": "code",
   "execution_count": 12,
   "metadata": {},
   "outputs": [
    {
     "data": {
      "text/html": [
       "<div>\n",
       "<style scoped>\n",
       "    .dataframe tbody tr th:only-of-type {\n",
       "        vertical-align: middle;\n",
       "    }\n",
       "\n",
       "    .dataframe tbody tr th {\n",
       "        vertical-align: top;\n",
       "    }\n",
       "\n",
       "    .dataframe thead th {\n",
       "        text-align: right;\n",
       "    }\n",
       "</style>\n",
       "<table border=\"1\" class=\"dataframe\">\n",
       "  <thead>\n",
       "    <tr style=\"text-align: right;\">\n",
       "      <th>OpsimRun</th>\n",
       "      <th>rolling_ns2_rw0.5_v2.0_10yrs</th>\n",
       "      <th>rolling_ns2_rw0.9_v2.0_10yrs</th>\n",
       "      <th>rolling_ns3_rw0.5_v2.0_10yrs</th>\n",
       "      <th>rolling_ns3_rw0.9_v2.0_10yrs</th>\n",
       "    </tr>\n",
       "    <tr>\n",
       "      <th>metric</th>\n",
       "      <th></th>\n",
       "      <th></th>\n",
       "      <th></th>\n",
       "      <th></th>\n",
       "    </tr>\n",
       "  </thead>\n",
       "  <tbody>\n",
       "    <tr>\n",
       "      <th>fOArea fO All visits HealpixSlicer</th>\n",
       "      <td>12614.583488</td>\n",
       "      <td>12893.228978</td>\n",
       "      <td>12729.566717</td>\n",
       "      <td>13255.803832</td>\n",
       "    </tr>\n",
       "    <tr>\n",
       "      <th>fOArea/benchmark fO All visits HealpixSlicer</th>\n",
       "      <td>0.700810</td>\n",
       "      <td>0.716290</td>\n",
       "      <td>0.707198</td>\n",
       "      <td>0.736434</td>\n",
       "    </tr>\n",
       "    <tr>\n",
       "      <th>fONv MedianNvis fO All visits HealpixSlicer</th>\n",
       "      <td>838.000000</td>\n",
       "      <td>839.000000</td>\n",
       "      <td>838.000000</td>\n",
       "      <td>841.000000</td>\n",
       "    </tr>\n",
       "    <tr>\n",
       "      <th>fONv MinNvis fO All visits HealpixSlicer</th>\n",
       "      <td>787.000000</td>\n",
       "      <td>787.000000</td>\n",
       "      <td>788.000000</td>\n",
       "      <td>788.000000</td>\n",
       "    </tr>\n",
       "    <tr>\n",
       "      <th>fONv/benchmark MedianNvis fO All visits HealpixSlicer</th>\n",
       "      <td>1.015758</td>\n",
       "      <td>1.016970</td>\n",
       "      <td>1.015758</td>\n",
       "      <td>1.019394</td>\n",
       "    </tr>\n",
       "    <tr>\n",
       "      <th>...</th>\n",
       "      <td>...</td>\n",
       "      <td>...</td>\n",
       "      <td>...</td>\n",
       "      <td>...</td>\n",
       "    </tr>\n",
       "    <tr>\n",
       "      <th>N(-3Sigma) AGN SF_error z band HealpixSlicer</th>\n",
       "      <td>0.000000</td>\n",
       "      <td>0.000000</td>\n",
       "      <td>0.000000</td>\n",
       "      <td>0.000000</td>\n",
       "    </tr>\n",
       "    <tr>\n",
       "      <th>AGN SF_error z band HealpixSlicer</th>\n",
       "      <td>29541.000000</td>\n",
       "      <td>29529.000000</td>\n",
       "      <td>29601.000000</td>\n",
       "      <td>29521.000000</td>\n",
       "    </tr>\n",
       "    <tr>\n",
       "      <th>25th%ile AGN SF_error z band HealpixSlicer</th>\n",
       "      <td>0.036877</td>\n",
       "      <td>0.037055</td>\n",
       "      <td>0.037091</td>\n",
       "      <td>0.037427</td>\n",
       "    </tr>\n",
       "    <tr>\n",
       "      <th>75th%ile AGN SF_error z band HealpixSlicer</th>\n",
       "      <td>0.055912</td>\n",
       "      <td>0.055711</td>\n",
       "      <td>0.054879</td>\n",
       "      <td>0.056101</td>\n",
       "    </tr>\n",
       "    <tr>\n",
       "      <th>AreaThreshold AGN SF_error z band HealpixSlicer</th>\n",
       "      <td>10130.274298</td>\n",
       "      <td>9874.289736</td>\n",
       "      <td>9716.502531</td>\n",
       "      <td>9326.230986</td>\n",
       "    </tr>\n",
       "  </tbody>\n",
       "</table>\n",
       "<p>37818 rows × 4 columns</p>\n",
       "</div>"
      ],
      "text/plain": [
       "OpsimRun                                            rolling_ns2_rw0.5_v2.0_10yrs  \\\n",
       "metric                                                                             \n",
       "fOArea fO All visits HealpixSlicer                                  12614.583488   \n",
       "fOArea/benchmark fO All visits HealpixSlicer                            0.700810   \n",
       "fONv MedianNvis fO All visits HealpixSlicer                           838.000000   \n",
       "fONv MinNvis fO All visits HealpixSlicer                              787.000000   \n",
       "fONv/benchmark MedianNvis fO All visits Healpix...                      1.015758   \n",
       "...                                                                          ...   \n",
       "N(-3Sigma) AGN SF_error z band HealpixSlicer                            0.000000   \n",
       "AGN SF_error z band HealpixSlicer                                   29541.000000   \n",
       "25th%ile AGN SF_error z band HealpixSlicer                              0.036877   \n",
       "75th%ile AGN SF_error z band HealpixSlicer                              0.055912   \n",
       "AreaThreshold AGN SF_error z band HealpixSlicer                     10130.274298   \n",
       "\n",
       "OpsimRun                                            rolling_ns2_rw0.9_v2.0_10yrs  \\\n",
       "metric                                                                             \n",
       "fOArea fO All visits HealpixSlicer                                  12893.228978   \n",
       "fOArea/benchmark fO All visits HealpixSlicer                            0.716290   \n",
       "fONv MedianNvis fO All visits HealpixSlicer                           839.000000   \n",
       "fONv MinNvis fO All visits HealpixSlicer                              787.000000   \n",
       "fONv/benchmark MedianNvis fO All visits Healpix...                      1.016970   \n",
       "...                                                                          ...   \n",
       "N(-3Sigma) AGN SF_error z band HealpixSlicer                            0.000000   \n",
       "AGN SF_error z band HealpixSlicer                                   29529.000000   \n",
       "25th%ile AGN SF_error z band HealpixSlicer                              0.037055   \n",
       "75th%ile AGN SF_error z band HealpixSlicer                              0.055711   \n",
       "AreaThreshold AGN SF_error z band HealpixSlicer                      9874.289736   \n",
       "\n",
       "OpsimRun                                            rolling_ns3_rw0.5_v2.0_10yrs  \\\n",
       "metric                                                                             \n",
       "fOArea fO All visits HealpixSlicer                                  12729.566717   \n",
       "fOArea/benchmark fO All visits HealpixSlicer                            0.707198   \n",
       "fONv MedianNvis fO All visits HealpixSlicer                           838.000000   \n",
       "fONv MinNvis fO All visits HealpixSlicer                              788.000000   \n",
       "fONv/benchmark MedianNvis fO All visits Healpix...                      1.015758   \n",
       "...                                                                          ...   \n",
       "N(-3Sigma) AGN SF_error z band HealpixSlicer                            0.000000   \n",
       "AGN SF_error z band HealpixSlicer                                   29601.000000   \n",
       "25th%ile AGN SF_error z band HealpixSlicer                              0.037091   \n",
       "75th%ile AGN SF_error z band HealpixSlicer                              0.054879   \n",
       "AreaThreshold AGN SF_error z band HealpixSlicer                      9716.502531   \n",
       "\n",
       "OpsimRun                                            rolling_ns3_rw0.9_v2.0_10yrs  \n",
       "metric                                                                            \n",
       "fOArea fO All visits HealpixSlicer                                  13255.803832  \n",
       "fOArea/benchmark fO All visits HealpixSlicer                            0.736434  \n",
       "fONv MedianNvis fO All visits HealpixSlicer                           841.000000  \n",
       "fONv MinNvis fO All visits HealpixSlicer                              788.000000  \n",
       "fONv/benchmark MedianNvis fO All visits Healpix...                      1.019394  \n",
       "...                                                                          ...  \n",
       "N(-3Sigma) AGN SF_error z band HealpixSlicer                            0.000000  \n",
       "AGN SF_error z band HealpixSlicer                                   29521.000000  \n",
       "25th%ile AGN SF_error z band HealpixSlicer                              0.037427  \n",
       "75th%ile AGN SF_error z band HealpixSlicer                              0.056101  \n",
       "AreaThreshold AGN SF_error z band HealpixSlicer                      9326.230986  \n",
       "\n",
       "[37818 rows x 4 columns]"
      ]
     },
     "execution_count": 12,
     "metadata": {},
     "output_type": "execute_result"
    }
   ],
   "source": [
    "archive.get_metric_summaries(run_families=\"rolling\")"
   ]
  },
  {
   "cell_type": "markdown",
   "metadata": {},
   "source": [
    "It returned more than 37000 metrics! This is more than necessary or convenient for most purposes."
   ]
  },
  {
   "cell_type": "markdown",
   "metadata": {},
   "source": [
    "## Metric sets"
   ]
  },
  {
   "cell_type": "markdown",
   "metadata": {},
   "source": [
    "Rather than sort through all these metrics, you can work with pre-defined sets of metrics generated for a variety of purposes. `get_metric_sets` loads definitions of sets of metrics (and other metric metadata) from a URL specified by `archive.DEFAULT_METRIC_SET_SOURCE`. Users can load this data by passing the URL or file name as the argument to `get_metric_sets`. *Metric set definitions cannot be arbitrarily mixed with summary sources: each version of summary source must be matched with a corresponding metric set source.*"
   ]
  },
  {
   "cell_type": "code",
   "execution_count": 13,
   "metadata": {},
   "outputs": [
    {
     "data": {
      "text/plain": [
       "'https://raw.githubusercontent.com/lsst-pst/survey_strategy/main/fbs_2.0/metric_sets.json'"
      ]
     },
     "execution_count": 13,
     "metadata": {},
     "output_type": "execute_result"
    }
   ],
   "source": [
    "archive.METRIC_SET_SOURCE"
   ]
  },
  {
   "cell_type": "markdown",
   "metadata": {},
   "source": [
    "You can get the set definitions using `get_metric_sets`:"
   ]
  },
  {
   "cell_type": "code",
   "execution_count": 14,
   "metadata": {},
   "outputs": [
    {
     "ename": "HTTPError",
     "evalue": "HTTP Error 404: Not Found",
     "output_type": "error",
     "traceback": [
      "\u001b[0;31m---------------------------------------------------------------------------\u001b[0m",
      "\u001b[0;31mHTTPError\u001b[0m                                 Traceback (most recent call last)",
      "\u001b[0;32m/tmp/ipykernel_480733/469841888.py\u001b[0m in \u001b[0;36m<module>\u001b[0;34m\u001b[0m\n\u001b[0;32m----> 1\u001b[0;31m \u001b[0mmetric_sets\u001b[0m \u001b[0;34m=\u001b[0m \u001b[0marchive\u001b[0m\u001b[0;34m.\u001b[0m\u001b[0mget_metric_sets\u001b[0m\u001b[0;34m(\u001b[0m\u001b[0;34m)\u001b[0m\u001b[0;34m\u001b[0m\u001b[0;34m\u001b[0m\u001b[0m\n\u001b[0m\u001b[1;32m      2\u001b[0m \u001b[0mmetric_sets\u001b[0m\u001b[0;34m\u001b[0m\u001b[0;34m\u001b[0m\u001b[0m\n",
      "\u001b[0;32m/data/des91.b/data/neilsen/LSST/devel/survey_strategy/fbs_2.0/archive.py\u001b[0m in \u001b[0;36mget_metric_sets\u001b[0;34m(metric_set_source)\u001b[0m\n\u001b[1;32m    268\u001b[0m     \u001b[0;32melse\u001b[0m\u001b[0;34m:\u001b[0m\u001b[0;34m\u001b[0m\u001b[0;34m\u001b[0m\u001b[0m\n\u001b[1;32m    269\u001b[0m         metric_sets = (\n\u001b[0;32m--> 270\u001b[0;31m             \u001b[0mpd\u001b[0m\u001b[0;34m.\u001b[0m\u001b[0mread_json\u001b[0m\u001b[0;34m(\u001b[0m\u001b[0mmetric_set_source\u001b[0m\u001b[0;34m)\u001b[0m\u001b[0;34m\u001b[0m\u001b[0;34m\u001b[0m\u001b[0m\n\u001b[0m\u001b[1;32m    271\u001b[0m             \u001b[0;34m.\u001b[0m\u001b[0mset_index\u001b[0m\u001b[0;34m(\u001b[0m\u001b[0;34m\"metric set\"\u001b[0m\u001b[0;34m)\u001b[0m\u001b[0;34m\u001b[0m\u001b[0;34m\u001b[0m\u001b[0m\n\u001b[1;32m    272\u001b[0m             \u001b[0;34m.\u001b[0m\u001b[0mset_index\u001b[0m\u001b[0;34m(\u001b[0m\u001b[0;34m\"metric\"\u001b[0m\u001b[0;34m,\u001b[0m \u001b[0mappend\u001b[0m\u001b[0;34m=\u001b[0m\u001b[0;32mTrue\u001b[0m\u001b[0;34m,\u001b[0m \u001b[0mdrop\u001b[0m\u001b[0;34m=\u001b[0m\u001b[0;32mFalse\u001b[0m\u001b[0;34m)\u001b[0m\u001b[0;34m\u001b[0m\u001b[0;34m\u001b[0m\u001b[0m\n",
      "\u001b[0;32m/data/des91.b/data/neilsen/anaconda/envs/rubin_sim/lib/python3.9/site-packages/pandas/util/_decorators.py\u001b[0m in \u001b[0;36mwrapper\u001b[0;34m(*args, **kwargs)\u001b[0m\n\u001b[1;32m    205\u001b[0m                 \u001b[0;32melse\u001b[0m\u001b[0;34m:\u001b[0m\u001b[0;34m\u001b[0m\u001b[0;34m\u001b[0m\u001b[0m\n\u001b[1;32m    206\u001b[0m                     \u001b[0mkwargs\u001b[0m\u001b[0;34m[\u001b[0m\u001b[0mnew_arg_name\u001b[0m\u001b[0;34m]\u001b[0m \u001b[0;34m=\u001b[0m \u001b[0mnew_arg_value\u001b[0m\u001b[0;34m\u001b[0m\u001b[0;34m\u001b[0m\u001b[0m\n\u001b[0;32m--> 207\u001b[0;31m             \u001b[0;32mreturn\u001b[0m \u001b[0mfunc\u001b[0m\u001b[0;34m(\u001b[0m\u001b[0;34m*\u001b[0m\u001b[0margs\u001b[0m\u001b[0;34m,\u001b[0m \u001b[0;34m**\u001b[0m\u001b[0mkwargs\u001b[0m\u001b[0;34m)\u001b[0m\u001b[0;34m\u001b[0m\u001b[0;34m\u001b[0m\u001b[0m\n\u001b[0m\u001b[1;32m    208\u001b[0m \u001b[0;34m\u001b[0m\u001b[0m\n\u001b[1;32m    209\u001b[0m         \u001b[0;32mreturn\u001b[0m \u001b[0mcast\u001b[0m\u001b[0;34m(\u001b[0m\u001b[0mF\u001b[0m\u001b[0;34m,\u001b[0m \u001b[0mwrapper\u001b[0m\u001b[0;34m)\u001b[0m\u001b[0;34m\u001b[0m\u001b[0;34m\u001b[0m\u001b[0m\n",
      "\u001b[0;32m/data/des91.b/data/neilsen/anaconda/envs/rubin_sim/lib/python3.9/site-packages/pandas/util/_decorators.py\u001b[0m in \u001b[0;36mwrapper\u001b[0;34m(*args, **kwargs)\u001b[0m\n\u001b[1;32m    309\u001b[0m                     \u001b[0mstacklevel\u001b[0m\u001b[0;34m=\u001b[0m\u001b[0mstacklevel\u001b[0m\u001b[0;34m,\u001b[0m\u001b[0;34m\u001b[0m\u001b[0;34m\u001b[0m\u001b[0m\n\u001b[1;32m    310\u001b[0m                 )\n\u001b[0;32m--> 311\u001b[0;31m             \u001b[0;32mreturn\u001b[0m \u001b[0mfunc\u001b[0m\u001b[0;34m(\u001b[0m\u001b[0;34m*\u001b[0m\u001b[0margs\u001b[0m\u001b[0;34m,\u001b[0m \u001b[0;34m**\u001b[0m\u001b[0mkwargs\u001b[0m\u001b[0;34m)\u001b[0m\u001b[0;34m\u001b[0m\u001b[0;34m\u001b[0m\u001b[0m\n\u001b[0m\u001b[1;32m    312\u001b[0m \u001b[0;34m\u001b[0m\u001b[0m\n\u001b[1;32m    313\u001b[0m         \u001b[0;32mreturn\u001b[0m \u001b[0mwrapper\u001b[0m\u001b[0;34m\u001b[0m\u001b[0;34m\u001b[0m\u001b[0m\n",
      "\u001b[0;32m/data/des91.b/data/neilsen/anaconda/envs/rubin_sim/lib/python3.9/site-packages/pandas/io/json/_json.py\u001b[0m in \u001b[0;36mread_json\u001b[0;34m(path_or_buf, orient, typ, dtype, convert_axes, convert_dates, keep_default_dates, numpy, precise_float, date_unit, encoding, encoding_errors, lines, chunksize, compression, nrows, storage_options)\u001b[0m\n\u001b[1;32m    588\u001b[0m         \u001b[0mconvert_axes\u001b[0m \u001b[0;34m=\u001b[0m \u001b[0;32mTrue\u001b[0m\u001b[0;34m\u001b[0m\u001b[0;34m\u001b[0m\u001b[0m\n\u001b[1;32m    589\u001b[0m \u001b[0;34m\u001b[0m\u001b[0m\n\u001b[0;32m--> 590\u001b[0;31m     json_reader = JsonReader(\n\u001b[0m\u001b[1;32m    591\u001b[0m         \u001b[0mpath_or_buf\u001b[0m\u001b[0;34m,\u001b[0m\u001b[0;34m\u001b[0m\u001b[0;34m\u001b[0m\u001b[0m\n\u001b[1;32m    592\u001b[0m         \u001b[0morient\u001b[0m\u001b[0;34m=\u001b[0m\u001b[0morient\u001b[0m\u001b[0;34m,\u001b[0m\u001b[0;34m\u001b[0m\u001b[0;34m\u001b[0m\u001b[0m\n",
      "\u001b[0;32m/data/des91.b/data/neilsen/anaconda/envs/rubin_sim/lib/python3.9/site-packages/pandas/io/json/_json.py\u001b[0m in \u001b[0;36m__init__\u001b[0;34m(self, filepath_or_buffer, orient, typ, dtype, convert_axes, convert_dates, keep_default_dates, numpy, precise_float, date_unit, encoding, lines, chunksize, compression, nrows, storage_options, encoding_errors)\u001b[0m\n\u001b[1;32m    673\u001b[0m                 \u001b[0;32mraise\u001b[0m \u001b[0mValueError\u001b[0m\u001b[0;34m(\u001b[0m\u001b[0;34m\"nrows can only be passed if lines=True\"\u001b[0m\u001b[0;34m)\u001b[0m\u001b[0;34m\u001b[0m\u001b[0;34m\u001b[0m\u001b[0m\n\u001b[1;32m    674\u001b[0m \u001b[0;34m\u001b[0m\u001b[0m\n\u001b[0;32m--> 675\u001b[0;31m         \u001b[0mdata\u001b[0m \u001b[0;34m=\u001b[0m \u001b[0mself\u001b[0m\u001b[0;34m.\u001b[0m\u001b[0m_get_data_from_filepath\u001b[0m\u001b[0;34m(\u001b[0m\u001b[0mfilepath_or_buffer\u001b[0m\u001b[0;34m)\u001b[0m\u001b[0;34m\u001b[0m\u001b[0;34m\u001b[0m\u001b[0m\n\u001b[0m\u001b[1;32m    676\u001b[0m         \u001b[0mself\u001b[0m\u001b[0;34m.\u001b[0m\u001b[0mdata\u001b[0m \u001b[0;34m=\u001b[0m \u001b[0mself\u001b[0m\u001b[0;34m.\u001b[0m\u001b[0m_preprocess_data\u001b[0m\u001b[0;34m(\u001b[0m\u001b[0mdata\u001b[0m\u001b[0;34m)\u001b[0m\u001b[0;34m\u001b[0m\u001b[0;34m\u001b[0m\u001b[0m\n\u001b[1;32m    677\u001b[0m \u001b[0;34m\u001b[0m\u001b[0m\n",
      "\u001b[0;32m/data/des91.b/data/neilsen/anaconda/envs/rubin_sim/lib/python3.9/site-packages/pandas/io/json/_json.py\u001b[0m in \u001b[0;36m_get_data_from_filepath\u001b[0;34m(self, filepath_or_buffer)\u001b[0m\n\u001b[1;32m    710\u001b[0m             \u001b[0;32mor\u001b[0m \u001b[0mfile_exists\u001b[0m\u001b[0;34m(\u001b[0m\u001b[0mfilepath_or_buffer\u001b[0m\u001b[0;34m)\u001b[0m\u001b[0;34m\u001b[0m\u001b[0;34m\u001b[0m\u001b[0m\n\u001b[1;32m    711\u001b[0m         ):\n\u001b[0;32m--> 712\u001b[0;31m             self.handles = get_handle(\n\u001b[0m\u001b[1;32m    713\u001b[0m                 \u001b[0mfilepath_or_buffer\u001b[0m\u001b[0;34m,\u001b[0m\u001b[0;34m\u001b[0m\u001b[0;34m\u001b[0m\u001b[0m\n\u001b[1;32m    714\u001b[0m                 \u001b[0;34m\"r\"\u001b[0m\u001b[0;34m,\u001b[0m\u001b[0;34m\u001b[0m\u001b[0;34m\u001b[0m\u001b[0m\n",
      "\u001b[0;32m/data/des91.b/data/neilsen/anaconda/envs/rubin_sim/lib/python3.9/site-packages/pandas/io/common.py\u001b[0m in \u001b[0;36mget_handle\u001b[0;34m(path_or_buf, mode, encoding, compression, memory_map, is_text, errors, storage_options)\u001b[0m\n\u001b[1;32m    606\u001b[0m \u001b[0;34m\u001b[0m\u001b[0m\n\u001b[1;32m    607\u001b[0m     \u001b[0;31m# open URLs\u001b[0m\u001b[0;34m\u001b[0m\u001b[0;34m\u001b[0m\u001b[0;34m\u001b[0m\u001b[0m\n\u001b[0;32m--> 608\u001b[0;31m     ioargs = _get_filepath_or_buffer(\n\u001b[0m\u001b[1;32m    609\u001b[0m         \u001b[0mpath_or_buf\u001b[0m\u001b[0;34m,\u001b[0m\u001b[0;34m\u001b[0m\u001b[0;34m\u001b[0m\u001b[0m\n\u001b[1;32m    610\u001b[0m         \u001b[0mencoding\u001b[0m\u001b[0;34m=\u001b[0m\u001b[0mencoding\u001b[0m\u001b[0;34m,\u001b[0m\u001b[0;34m\u001b[0m\u001b[0;34m\u001b[0m\u001b[0m\n",
      "\u001b[0;32m/data/des91.b/data/neilsen/anaconda/envs/rubin_sim/lib/python3.9/site-packages/pandas/io/common.py\u001b[0m in \u001b[0;36m_get_filepath_or_buffer\u001b[0;34m(filepath_or_buffer, encoding, compression, mode, storage_options)\u001b[0m\n\u001b[1;32m    309\u001b[0m         \u001b[0;31m# assuming storage_options is to be interpreted as headers\u001b[0m\u001b[0;34m\u001b[0m\u001b[0;34m\u001b[0m\u001b[0;34m\u001b[0m\u001b[0m\n\u001b[1;32m    310\u001b[0m         \u001b[0mreq_info\u001b[0m \u001b[0;34m=\u001b[0m \u001b[0murllib\u001b[0m\u001b[0;34m.\u001b[0m\u001b[0mrequest\u001b[0m\u001b[0;34m.\u001b[0m\u001b[0mRequest\u001b[0m\u001b[0;34m(\u001b[0m\u001b[0mfilepath_or_buffer\u001b[0m\u001b[0;34m,\u001b[0m \u001b[0mheaders\u001b[0m\u001b[0;34m=\u001b[0m\u001b[0mstorage_options\u001b[0m\u001b[0;34m)\u001b[0m\u001b[0;34m\u001b[0m\u001b[0;34m\u001b[0m\u001b[0m\n\u001b[0;32m--> 311\u001b[0;31m         \u001b[0;32mwith\u001b[0m \u001b[0murlopen\u001b[0m\u001b[0;34m(\u001b[0m\u001b[0mreq_info\u001b[0m\u001b[0;34m)\u001b[0m \u001b[0;32mas\u001b[0m \u001b[0mreq\u001b[0m\u001b[0;34m:\u001b[0m\u001b[0;34m\u001b[0m\u001b[0;34m\u001b[0m\u001b[0m\n\u001b[0m\u001b[1;32m    312\u001b[0m             \u001b[0mcontent_encoding\u001b[0m \u001b[0;34m=\u001b[0m \u001b[0mreq\u001b[0m\u001b[0;34m.\u001b[0m\u001b[0mheaders\u001b[0m\u001b[0;34m.\u001b[0m\u001b[0mget\u001b[0m\u001b[0;34m(\u001b[0m\u001b[0;34m\"Content-Encoding\"\u001b[0m\u001b[0;34m,\u001b[0m \u001b[0;32mNone\u001b[0m\u001b[0;34m)\u001b[0m\u001b[0;34m\u001b[0m\u001b[0;34m\u001b[0m\u001b[0m\n\u001b[1;32m    313\u001b[0m             \u001b[0;32mif\u001b[0m \u001b[0mcontent_encoding\u001b[0m \u001b[0;34m==\u001b[0m \u001b[0;34m\"gzip\"\u001b[0m\u001b[0;34m:\u001b[0m\u001b[0;34m\u001b[0m\u001b[0;34m\u001b[0m\u001b[0m\n",
      "\u001b[0;32m/data/des91.b/data/neilsen/anaconda/envs/rubin_sim/lib/python3.9/site-packages/pandas/io/common.py\u001b[0m in \u001b[0;36murlopen\u001b[0;34m(*args, **kwargs)\u001b[0m\n\u001b[1;32m    209\u001b[0m     \u001b[0;32mimport\u001b[0m \u001b[0murllib\u001b[0m\u001b[0;34m.\u001b[0m\u001b[0mrequest\u001b[0m\u001b[0;34m\u001b[0m\u001b[0;34m\u001b[0m\u001b[0m\n\u001b[1;32m    210\u001b[0m \u001b[0;34m\u001b[0m\u001b[0m\n\u001b[0;32m--> 211\u001b[0;31m     \u001b[0;32mreturn\u001b[0m \u001b[0murllib\u001b[0m\u001b[0;34m.\u001b[0m\u001b[0mrequest\u001b[0m\u001b[0;34m.\u001b[0m\u001b[0murlopen\u001b[0m\u001b[0;34m(\u001b[0m\u001b[0;34m*\u001b[0m\u001b[0margs\u001b[0m\u001b[0;34m,\u001b[0m \u001b[0;34m**\u001b[0m\u001b[0mkwargs\u001b[0m\u001b[0;34m)\u001b[0m\u001b[0;34m\u001b[0m\u001b[0;34m\u001b[0m\u001b[0m\n\u001b[0m\u001b[1;32m    212\u001b[0m \u001b[0;34m\u001b[0m\u001b[0m\n\u001b[1;32m    213\u001b[0m \u001b[0;34m\u001b[0m\u001b[0m\n",
      "\u001b[0;32m/data/des91.b/data/neilsen/anaconda/envs/rubin_sim/lib/python3.9/urllib/request.py\u001b[0m in \u001b[0;36murlopen\u001b[0;34m(url, data, timeout, cafile, capath, cadefault, context)\u001b[0m\n\u001b[1;32m    212\u001b[0m     \u001b[0;32melse\u001b[0m\u001b[0;34m:\u001b[0m\u001b[0;34m\u001b[0m\u001b[0;34m\u001b[0m\u001b[0m\n\u001b[1;32m    213\u001b[0m         \u001b[0mopener\u001b[0m \u001b[0;34m=\u001b[0m \u001b[0m_opener\u001b[0m\u001b[0;34m\u001b[0m\u001b[0;34m\u001b[0m\u001b[0m\n\u001b[0;32m--> 214\u001b[0;31m     \u001b[0;32mreturn\u001b[0m \u001b[0mopener\u001b[0m\u001b[0;34m.\u001b[0m\u001b[0mopen\u001b[0m\u001b[0;34m(\u001b[0m\u001b[0murl\u001b[0m\u001b[0;34m,\u001b[0m \u001b[0mdata\u001b[0m\u001b[0;34m,\u001b[0m \u001b[0mtimeout\u001b[0m\u001b[0;34m)\u001b[0m\u001b[0;34m\u001b[0m\u001b[0;34m\u001b[0m\u001b[0m\n\u001b[0m\u001b[1;32m    215\u001b[0m \u001b[0;34m\u001b[0m\u001b[0m\n\u001b[1;32m    216\u001b[0m \u001b[0;32mdef\u001b[0m \u001b[0minstall_opener\u001b[0m\u001b[0;34m(\u001b[0m\u001b[0mopener\u001b[0m\u001b[0;34m)\u001b[0m\u001b[0;34m:\u001b[0m\u001b[0;34m\u001b[0m\u001b[0;34m\u001b[0m\u001b[0m\n",
      "\u001b[0;32m/data/des91.b/data/neilsen/anaconda/envs/rubin_sim/lib/python3.9/urllib/request.py\u001b[0m in \u001b[0;36mopen\u001b[0;34m(self, fullurl, data, timeout)\u001b[0m\n\u001b[1;32m    521\u001b[0m         \u001b[0;32mfor\u001b[0m \u001b[0mprocessor\u001b[0m \u001b[0;32min\u001b[0m \u001b[0mself\u001b[0m\u001b[0;34m.\u001b[0m\u001b[0mprocess_response\u001b[0m\u001b[0;34m.\u001b[0m\u001b[0mget\u001b[0m\u001b[0;34m(\u001b[0m\u001b[0mprotocol\u001b[0m\u001b[0;34m,\u001b[0m \u001b[0;34m[\u001b[0m\u001b[0;34m]\u001b[0m\u001b[0;34m)\u001b[0m\u001b[0;34m:\u001b[0m\u001b[0;34m\u001b[0m\u001b[0;34m\u001b[0m\u001b[0m\n\u001b[1;32m    522\u001b[0m             \u001b[0mmeth\u001b[0m \u001b[0;34m=\u001b[0m \u001b[0mgetattr\u001b[0m\u001b[0;34m(\u001b[0m\u001b[0mprocessor\u001b[0m\u001b[0;34m,\u001b[0m \u001b[0mmeth_name\u001b[0m\u001b[0;34m)\u001b[0m\u001b[0;34m\u001b[0m\u001b[0;34m\u001b[0m\u001b[0m\n\u001b[0;32m--> 523\u001b[0;31m             \u001b[0mresponse\u001b[0m \u001b[0;34m=\u001b[0m \u001b[0mmeth\u001b[0m\u001b[0;34m(\u001b[0m\u001b[0mreq\u001b[0m\u001b[0;34m,\u001b[0m \u001b[0mresponse\u001b[0m\u001b[0;34m)\u001b[0m\u001b[0;34m\u001b[0m\u001b[0;34m\u001b[0m\u001b[0m\n\u001b[0m\u001b[1;32m    524\u001b[0m \u001b[0;34m\u001b[0m\u001b[0m\n\u001b[1;32m    525\u001b[0m         \u001b[0;32mreturn\u001b[0m \u001b[0mresponse\u001b[0m\u001b[0;34m\u001b[0m\u001b[0;34m\u001b[0m\u001b[0m\n",
      "\u001b[0;32m/data/des91.b/data/neilsen/anaconda/envs/rubin_sim/lib/python3.9/urllib/request.py\u001b[0m in \u001b[0;36mhttp_response\u001b[0;34m(self, request, response)\u001b[0m\n\u001b[1;32m    630\u001b[0m         \u001b[0;31m# request was successfully received, understood, and accepted.\u001b[0m\u001b[0;34m\u001b[0m\u001b[0;34m\u001b[0m\u001b[0;34m\u001b[0m\u001b[0m\n\u001b[1;32m    631\u001b[0m         \u001b[0;32mif\u001b[0m \u001b[0;32mnot\u001b[0m \u001b[0;34m(\u001b[0m\u001b[0;36m200\u001b[0m \u001b[0;34m<=\u001b[0m \u001b[0mcode\u001b[0m \u001b[0;34m<\u001b[0m \u001b[0;36m300\u001b[0m\u001b[0;34m)\u001b[0m\u001b[0;34m:\u001b[0m\u001b[0;34m\u001b[0m\u001b[0;34m\u001b[0m\u001b[0m\n\u001b[0;32m--> 632\u001b[0;31m             response = self.parent.error(\n\u001b[0m\u001b[1;32m    633\u001b[0m                 'http', request, response, code, msg, hdrs)\n\u001b[1;32m    634\u001b[0m \u001b[0;34m\u001b[0m\u001b[0m\n",
      "\u001b[0;32m/data/des91.b/data/neilsen/anaconda/envs/rubin_sim/lib/python3.9/urllib/request.py\u001b[0m in \u001b[0;36merror\u001b[0;34m(self, proto, *args)\u001b[0m\n\u001b[1;32m    559\u001b[0m         \u001b[0;32mif\u001b[0m \u001b[0mhttp_err\u001b[0m\u001b[0;34m:\u001b[0m\u001b[0;34m\u001b[0m\u001b[0;34m\u001b[0m\u001b[0m\n\u001b[1;32m    560\u001b[0m             \u001b[0margs\u001b[0m \u001b[0;34m=\u001b[0m \u001b[0;34m(\u001b[0m\u001b[0mdict\u001b[0m\u001b[0;34m,\u001b[0m \u001b[0;34m'default'\u001b[0m\u001b[0;34m,\u001b[0m \u001b[0;34m'http_error_default'\u001b[0m\u001b[0;34m)\u001b[0m \u001b[0;34m+\u001b[0m \u001b[0morig_args\u001b[0m\u001b[0;34m\u001b[0m\u001b[0;34m\u001b[0m\u001b[0m\n\u001b[0;32m--> 561\u001b[0;31m             \u001b[0;32mreturn\u001b[0m \u001b[0mself\u001b[0m\u001b[0;34m.\u001b[0m\u001b[0m_call_chain\u001b[0m\u001b[0;34m(\u001b[0m\u001b[0;34m*\u001b[0m\u001b[0margs\u001b[0m\u001b[0;34m)\u001b[0m\u001b[0;34m\u001b[0m\u001b[0;34m\u001b[0m\u001b[0m\n\u001b[0m\u001b[1;32m    562\u001b[0m \u001b[0;34m\u001b[0m\u001b[0m\n\u001b[1;32m    563\u001b[0m \u001b[0;31m# XXX probably also want an abstract factory that knows when it makes\u001b[0m\u001b[0;34m\u001b[0m\u001b[0;34m\u001b[0m\u001b[0;34m\u001b[0m\u001b[0m\n",
      "\u001b[0;32m/data/des91.b/data/neilsen/anaconda/envs/rubin_sim/lib/python3.9/urllib/request.py\u001b[0m in \u001b[0;36m_call_chain\u001b[0;34m(self, chain, kind, meth_name, *args)\u001b[0m\n\u001b[1;32m    492\u001b[0m         \u001b[0;32mfor\u001b[0m \u001b[0mhandler\u001b[0m \u001b[0;32min\u001b[0m \u001b[0mhandlers\u001b[0m\u001b[0;34m:\u001b[0m\u001b[0;34m\u001b[0m\u001b[0;34m\u001b[0m\u001b[0m\n\u001b[1;32m    493\u001b[0m             \u001b[0mfunc\u001b[0m \u001b[0;34m=\u001b[0m \u001b[0mgetattr\u001b[0m\u001b[0;34m(\u001b[0m\u001b[0mhandler\u001b[0m\u001b[0;34m,\u001b[0m \u001b[0mmeth_name\u001b[0m\u001b[0;34m)\u001b[0m\u001b[0;34m\u001b[0m\u001b[0;34m\u001b[0m\u001b[0m\n\u001b[0;32m--> 494\u001b[0;31m             \u001b[0mresult\u001b[0m \u001b[0;34m=\u001b[0m \u001b[0mfunc\u001b[0m\u001b[0;34m(\u001b[0m\u001b[0;34m*\u001b[0m\u001b[0margs\u001b[0m\u001b[0;34m)\u001b[0m\u001b[0;34m\u001b[0m\u001b[0;34m\u001b[0m\u001b[0m\n\u001b[0m\u001b[1;32m    495\u001b[0m             \u001b[0;32mif\u001b[0m \u001b[0mresult\u001b[0m \u001b[0;32mis\u001b[0m \u001b[0;32mnot\u001b[0m \u001b[0;32mNone\u001b[0m\u001b[0;34m:\u001b[0m\u001b[0;34m\u001b[0m\u001b[0;34m\u001b[0m\u001b[0m\n\u001b[1;32m    496\u001b[0m                 \u001b[0;32mreturn\u001b[0m \u001b[0mresult\u001b[0m\u001b[0;34m\u001b[0m\u001b[0;34m\u001b[0m\u001b[0m\n",
      "\u001b[0;32m/data/des91.b/data/neilsen/anaconda/envs/rubin_sim/lib/python3.9/urllib/request.py\u001b[0m in \u001b[0;36mhttp_error_default\u001b[0;34m(self, req, fp, code, msg, hdrs)\u001b[0m\n\u001b[1;32m    639\u001b[0m \u001b[0;32mclass\u001b[0m \u001b[0mHTTPDefaultErrorHandler\u001b[0m\u001b[0;34m(\u001b[0m\u001b[0mBaseHandler\u001b[0m\u001b[0;34m)\u001b[0m\u001b[0;34m:\u001b[0m\u001b[0;34m\u001b[0m\u001b[0;34m\u001b[0m\u001b[0m\n\u001b[1;32m    640\u001b[0m     \u001b[0;32mdef\u001b[0m \u001b[0mhttp_error_default\u001b[0m\u001b[0;34m(\u001b[0m\u001b[0mself\u001b[0m\u001b[0;34m,\u001b[0m \u001b[0mreq\u001b[0m\u001b[0;34m,\u001b[0m \u001b[0mfp\u001b[0m\u001b[0;34m,\u001b[0m \u001b[0mcode\u001b[0m\u001b[0;34m,\u001b[0m \u001b[0mmsg\u001b[0m\u001b[0;34m,\u001b[0m \u001b[0mhdrs\u001b[0m\u001b[0;34m)\u001b[0m\u001b[0;34m:\u001b[0m\u001b[0;34m\u001b[0m\u001b[0;34m\u001b[0m\u001b[0m\n\u001b[0;32m--> 641\u001b[0;31m         \u001b[0;32mraise\u001b[0m \u001b[0mHTTPError\u001b[0m\u001b[0;34m(\u001b[0m\u001b[0mreq\u001b[0m\u001b[0;34m.\u001b[0m\u001b[0mfull_url\u001b[0m\u001b[0;34m,\u001b[0m \u001b[0mcode\u001b[0m\u001b[0;34m,\u001b[0m \u001b[0mmsg\u001b[0m\u001b[0;34m,\u001b[0m \u001b[0mhdrs\u001b[0m\u001b[0;34m,\u001b[0m \u001b[0mfp\u001b[0m\u001b[0;34m)\u001b[0m\u001b[0;34m\u001b[0m\u001b[0;34m\u001b[0m\u001b[0m\n\u001b[0m\u001b[1;32m    642\u001b[0m \u001b[0;34m\u001b[0m\u001b[0m\n\u001b[1;32m    643\u001b[0m \u001b[0;32mclass\u001b[0m \u001b[0mHTTPRedirectHandler\u001b[0m\u001b[0;34m(\u001b[0m\u001b[0mBaseHandler\u001b[0m\u001b[0;34m)\u001b[0m\u001b[0;34m:\u001b[0m\u001b[0;34m\u001b[0m\u001b[0;34m\u001b[0m\u001b[0m\n",
      "\u001b[0;31mHTTPError\u001b[0m: HTTP Error 404: Not Found"
     ]
    }
   ],
   "source": [
    "metric_sets = archive.get_metric_sets()\n",
    "metric_sets"
   ]
  },
  {
   "cell_type": "markdown",
   "metadata": {},
   "source": [
    "Slicing this `pandas.DataFrame` will give you the metrics for just the sets you specify:"
   ]
  },
  {
   "cell_type": "code",
   "execution_count": null,
   "metadata": {},
   "outputs": [],
   "source": [
    "metric_sets.loc[\"srd\"]"
   ]
  },
  {
   "cell_type": "code",
   "execution_count": null,
   "metadata": {},
   "outputs": [],
   "source": [
    "metric_sets.loc[\"Nvis\"]"
   ]
  },
  {
   "cell_type": "code",
   "execution_count": null,
   "metadata": {},
   "outputs": [],
   "source": [
    "metric_sets.loc[[\"srd\", \"radar\"], :]"
   ]
  },
  {
   "cell_type": "markdown",
   "metadata": {},
   "source": [
    "You can get a list of available sets by listing the values of the index:"
   ]
  },
  {
   "cell_type": "code",
   "execution_count": null,
   "metadata": {},
   "outputs": [],
   "source": [
    "archive.get_metric_sets().groupby(\"metric set\").first().index"
   ]
  },
  {
   "cell_type": "markdown",
   "metadata": {},
   "source": [
    "You can get metric summaries by getting the list of metrics from the `DataFrame` through the `metrics` option, or you can just set the `metric_sets` option directly:"
   ]
  },
  {
   "cell_type": "code",
   "execution_count": null,
   "metadata": {},
   "outputs": [],
   "source": [
    "archive.get_metric_summaries(run_families=\"rolling\", metric_sets=\"radar\")"
   ]
  },
  {
   "cell_type": "markdown",
   "metadata": {},
   "source": [
    "## Normalizing summary metrics"
   ]
  },
  {
   "cell_type": "markdown",
   "metadata": {},
   "source": [
    "When comparing many runs with many metrics, it helps if each metric behaves similarly. As recorded, though, the numeric values of different metrics mean different things. For example, some metrics are better when they have higher values, others are better with lower values. Furthermore, they are all scaled differently.\n",
    "\n",
    "For ease of comparison, we can transform all of them such that they take a value of 1 if they are equally good to some baseline, positive if better, negative if worse.\n",
    "\n",
    "This comparison continues to be rough: different metrics continue to have different units, and so are not directly comparable. Still, it is a rough improvement."
   ]
  },
  {
   "cell_type": "markdown",
   "metadata": {},
   "source": [
    "Pick a family of runs and a set of metrics to use in this example:"
   ]
  },
  {
   "cell_type": "code",
   "execution_count": null,
   "metadata": {},
   "outputs": [],
   "source": [
    "this_family = [\"baseline\", \"rolling\"]\n",
    "this_metric_set = \"srd\""
   ]
  },
  {
   "cell_type": "markdown",
   "metadata": {},
   "source": [
    "We need to pick a reference run to define to have a normalized value of 1:"
   ]
  },
  {
   "cell_type": "code",
   "execution_count": null,
   "metadata": {},
   "outputs": [],
   "source": [
    "baseline_run = \"baseline_v2.0_10yrs\""
   ]
  },
  {
   "cell_type": "markdown",
   "metadata": {},
   "source": [
    "Now get all the (unnormalized) metrics summary values:"
   ]
  },
  {
   "cell_type": "code",
   "execution_count": null,
   "metadata": {},
   "outputs": [],
   "source": [
    "summary = archive.get_metric_summaries(this_family, this_metric_set)"
   ]
  },
  {
   "cell_type": "markdown",
   "metadata": {},
   "source": [
    "Normalize it and look at the results:"
   ]
  },
  {
   "cell_type": "code",
   "execution_count": null,
   "metadata": {},
   "outputs": [],
   "source": [
    "norm_summary = archive.normalize_metric_summaries(baseline_run, summary)\n",
    "norm_summary"
   ]
  },
  {
   "cell_type": "markdown",
   "metadata": {
    "tags": []
   },
   "source": [
    "## Cartesian plots"
   ]
  },
  {
   "cell_type": "markdown",
   "metadata": {},
   "source": [
    "This would be easier to interpret if presented graphically, for which you can use `plot_run_metric`:"
   ]
  },
  {
   "cell_type": "code",
   "execution_count": null,
   "metadata": {},
   "outputs": [],
   "source": [
    "archive.plot_run_metric(\n",
    "    summary,\n",
    "    baseline_run=baseline_run,\n",
    ")"
   ]
  },
  {
   "cell_type": "markdown",
   "metadata": {},
   "source": [
    "The labels on this plot are long and hard to interpret, but shorter names for both runs and metrics are available in the `pandas.DataFrames` we have already downloaded, and we can build transformations from these `DataFrame`s."
   ]
  },
  {
   "cell_type": "code",
   "execution_count": null,
   "metadata": {},
   "outputs": [],
   "source": [
    "metric_label_map = metric_sets.loc[this_metric_set, \"short_name\"]\n",
    "metric_label_map"
   ]
  },
  {
   "cell_type": "code",
   "execution_count": null,
   "metadata": {},
   "outputs": [],
   "source": [
    "run_label_map = family_runs.loc[this_family, [\"run\", \"brief\"]].set_index(\"run\")[\"brief\"]\n",
    "run_label_map"
   ]
  },
  {
   "cell_type": "markdown",
   "metadata": {},
   "source": [
    "These can be passed to `plot_metric_summary` to replace the labels:"
   ]
  },
  {
   "cell_type": "code",
   "execution_count": null,
   "metadata": {},
   "outputs": [],
   "source": [
    "archive.plot_run_metric(\n",
    "    summary,\n",
    "    baseline_run=baseline_run,\n",
    "    run_label_map=run_label_map,\n",
    "    metric_label_map=metric_label_map,\n",
    ")"
   ]
  },
  {
   "cell_type": "markdown",
   "metadata": {},
   "source": [
    "The `vertical_quantity` and `horizontal_quantity` options will let you set which axis (horizontal, vertical, or color) is mapped to which quantity (run, metric name, metric value), and additional arguments set the color maps, markers, and line styles connecting the points:"
   ]
  },
  {
   "cell_type": "code",
   "execution_count": null,
   "metadata": {},
   "outputs": [],
   "source": [
    "import matplotlib as mpl\n",
    "\n",
    "this_metric_set = \"radar\"\n",
    "\n",
    "this_family = [\"baseline\", \"microsurveys\"]\n",
    "run_label_map = family_runs.loc[this_family, [\"run\", \"brief\"]].set_index(\"run\")[\"brief\"]\n",
    "metric_label_map = metric_sets.loc[this_metric_set, \"short_name\"]\n",
    "\n",
    "summary = archive.get_metric_summaries(this_family, this_metric_set)\n",
    "metric_label_map = metric_sets.loc[this_metric_set, \"short_name\"]\n",
    "archive.plot_run_metric(\n",
    "    summary,\n",
    "    baseline_run=baseline_run,\n",
    "    vertical_quantity=\"value\",\n",
    "    horizontal_quantity=\"run\",\n",
    "    run_label_map=run_label_map,\n",
    "    metric_label_map=metric_label_map,\n",
    "    cmap=mpl.cm.tab10,\n",
    "    linestyles=[\"-\", \":\", \"--\", \"-.\"],\n",
    "    markers=[\"o\", \"v\", \"^\", \"<\", \">\", \"*\", \"H\", \"D\"],\n",
    ")"
   ]
  },
  {
   "cell_type": "markdown",
   "metadata": {
    "tags": []
   },
   "source": [
    "## Mesh plots"
   ]
  },
  {
   "cell_type": "markdown",
   "metadata": {},
   "source": [
    "Alternately, you can color code the metric value itself using `plot_run_metric_mesh`:"
   ]
  },
  {
   "cell_type": "code",
   "execution_count": null,
   "metadata": {},
   "outputs": [],
   "source": [
    "this_metric_set = [\"Nvis\", \"radar\"]\n",
    "metric_label_map = metric_sets.loc[this_metric_set, \"short_name\"].droplevel(\n",
    "    \"metric set\"\n",
    ")\n",
    "\n",
    "this_family = [\"baseline\", \"microsurveys\"]\n",
    "run_label_map = family_runs.loc[this_family, [\"run\", \"brief\"]].set_index(\"run\")[\"brief\"]\n",
    "\n",
    "summary = archive.get_metric_summaries(this_family, this_metric_set)\n",
    "\n",
    "archive.plot_run_metric_mesh(\n",
    "    summary,\n",
    "    baseline_run=baseline_run,\n",
    "    run_label_map=run_label_map,\n",
    "    metric_label_map=metric_label_map,\n",
    ")"
   ]
  },
  {
   "cell_type": "markdown",
   "metadata": {},
   "source": [
    "## Radar plots"
   ]
  },
  {
   "cell_type": "markdown",
   "metadata": {},
   "source": [
    "<span style='color:red'>TODO: to get this to work, I had to add `from .radarPlot import radar` to `rubin_sim/maf/runComparison/__init__.py`.</span>"
   ]
  },
  {
   "cell_type": "markdown",
   "metadata": {},
   "source": [
    "Finally, if the numbers of runs and metrics are manageable, you can compare different metrics of different runs with a radar plot."
   ]
  },
  {
   "cell_type": "markdown",
   "metadata": {},
   "source": [
    "Let's select a modest collection of metrics and family of runs, and build a summary:"
   ]
  },
  {
   "cell_type": "code",
   "execution_count": null,
   "metadata": {},
   "outputs": [],
   "source": [
    "family_runs.loc[[\"baseline\", \"retro\", \"rolling\"], :]"
   ]
  },
  {
   "cell_type": "code",
   "execution_count": null,
   "metadata": {},
   "outputs": [],
   "source": [
    "this_metric_set = \"radar\"\n",
    "this_family = [\"baseline\", \"retro\", \"rolling\"]\n",
    "summary = archive.get_metric_summaries(this_family, this_metric_set)"
   ]
  },
  {
   "cell_type": "markdown",
   "metadata": {},
   "source": [
    "The radar plot function requires that the data already be normalized, so normalize it:"
   ]
  },
  {
   "cell_type": "code",
   "execution_count": null,
   "metadata": {},
   "outputs": [],
   "source": [
    "norm_summary = archive.normalize_metric_summaries(baseline_run, summary)"
   ]
  },
  {
   "cell_type": "markdown",
   "metadata": {},
   "source": [
    "The radar plot function takes the run and metric names from the `DataFrame` row and column names, so we can use short name by renaming the rows and columns:"
   ]
  },
  {
   "cell_type": "code",
   "execution_count": null,
   "metadata": {},
   "outputs": [],
   "source": [
    "metric_label_map = metric_sets.loc[this_metric_set, \"short_name\"]\n",
    "run_label_map = family_runs.loc[this_family, [\"run\", \"brief\"]].set_index(\"run\")[\"brief\"]\n",
    "norm_summary.rename(columns=run_label_map, index=metric_label_map, inplace=True)"
   ]
  },
  {
   "cell_type": "markdown",
   "metadata": {},
   "source": [
    "Make the radar plot:"
   ]
  },
  {
   "cell_type": "code",
   "execution_count": null,
   "metadata": {},
   "outputs": [],
   "source": [
    "maf.radar(norm_summary.T, bbox_to_anchor=(3.7, 0))"
   ]
  },
  {
   "cell_type": "markdown",
   "metadata": {},
   "source": [
    "## Plotting yet more metrics and runs"
   ]
  },
  {
   "cell_type": "markdown",
   "metadata": {},
   "source": [
    "Multiple sets of metrics and families of runs can be retrieved and plotted at once, and these can be supplemented by additional individual runs and metrics:"
   ]
  },
  {
   "cell_type": "code",
   "execution_count": null,
   "metadata": {},
   "outputs": [],
   "source": [
    "these_metric_sets = [\"srd\", \"Nvis\", \"radar\"]\n",
    "these_families = [\"baseline\", \"retro\", \"rolling\"]\n",
    "extra_runs = [\"ddf_frac_ddf_per0.6_v2.0_10yrs\", \"ddf_frac_ddf_per1.6_v2.0_10yrs\"]\n",
    "extra_metrics = [\n",
    "    \"Effective Area (deg) ExgalM5_with_cuts i band non-DD year 10 HealpixSlicer\",\n",
    "]\n",
    "summary = archive.get_metric_summaries(\n",
    "    these_families, these_metric_sets, runs=extra_runs, metrics=extra_metrics\n",
    ")"
   ]
  },
  {
   "cell_type": "markdown",
   "metadata": {},
   "source": [
    "Because the slicing in pandas will return a multilevel index when multiple runs or families are sliced on, a little additional processing is needed to get a mapping from run or index name alone:"
   ]
  },
  {
   "cell_type": "code",
   "execution_count": null,
   "metadata": {},
   "outputs": [],
   "source": [
    "these_metrics = list(summary.index)\n",
    "metric_label_map = (\n",
    "    metric_sets.loc[(slice(None), these_metrics), \"short_name\"]\n",
    "    .groupby(\"metric\")\n",
    "    .first()\n",
    ")\n",
    "these_runs = list(summary.columns)\n",
    "run_label_map = (\n",
    "    family_runs[[\"run\", \"brief\"]]\n",
    "    .set_index(\"run\")\n",
    "    .loc[these_runs, \"brief\"]\n",
    "    .groupby(\"run\")\n",
    "    .first()\n",
    ")"
   ]
  },
  {
   "cell_type": "code",
   "execution_count": null,
   "metadata": {},
   "outputs": [],
   "source": [
    "archive.plot_run_metric_mesh(\n",
    "    summary,\n",
    "    baseline_run=baseline_run,\n",
    "    run_label_map=run_label_map,\n",
    "    metric_label_map=metric_label_map,\n",
    ")"
   ]
  },
  {
   "cell_type": "markdown",
   "metadata": {},
   "source": [
    "## Plotting other metrics"
   ]
  },
  {
   "cell_type": "markdown",
   "metadata": {},
   "source": [
    "Not all metrics present in the summary table have corresponding columns in the `metrics_set` data. If they do not, they cannot be normalized, and do not show up in the plots of normalized values.\n",
    "For exmample, minimum WFD depth values have no normalization values:"
   ]
  },
  {
   "cell_type": "code",
   "execution_count": null,
   "metadata": {},
   "outputs": [],
   "source": [
    "min_depth_metrics = tuple(f\"Min CoaddM5 WFD {b} band HealpixSlicer\" for b in \"ugrizy\")\n",
    "min_depth_metrics"
   ]
  },
  {
   "cell_type": "code",
   "execution_count": null,
   "metadata": {},
   "outputs": [],
   "source": [
    "metric_sets.loc[(slice(None), min_depth_metrics), :]"
   ]
  },
  {
   "cell_type": "markdown",
   "metadata": {},
   "source": [
    "We can still load the un-normalied metric values:"
   ]
  },
  {
   "cell_type": "code",
   "execution_count": null,
   "metadata": {},
   "outputs": [],
   "source": [
    "summary = archive.get_metric_summaries([\"baseline\", \"retro\"], metrics=min_depth_metrics)\n",
    "summary"
   ]
  },
  {
   "cell_type": "code",
   "execution_count": null,
   "metadata": {},
   "outputs": [],
   "source": [
    "archive.plot_run_metric(summary)"
   ]
  },
  {
   "cell_type": "markdown",
   "metadata": {},
   "source": [
    "If you want to properly normalize them, you can create you own metrics `DataFrame`:"
   ]
  },
  {
   "cell_type": "code",
   "execution_count": null,
   "metadata": {},
   "outputs": [],
   "source": [
    "import pandas as pd\n",
    "\n",
    "my_metrics = (\n",
    "    pd.DataFrame(\n",
    "        {\n",
    "            \"metric set\": \"Min WFD depth\",\n",
    "            \"metric\": min_depth_metrics,\n",
    "            \"short_name\": [f\"Min {b} band depth in WFD\" for b in \"ugrizy\"],\n",
    "            \"style\": \"-\",\n",
    "            \"invert\": False,\n",
    "            \"mag\": True,\n",
    "        }\n",
    "    )\n",
    "    .set_index(\"metric set\")\n",
    "    .set_index(\"metric\", append=True, drop=False)\n",
    ")\n",
    "my_metrics"
   ]
  },
  {
   "cell_type": "code",
   "execution_count": null,
   "metadata": {},
   "outputs": [],
   "source": [
    "archive.plot_run_metric(\n",
    "    summary,\n",
    "    baseline_run=baseline_run,\n",
    "    run_label_map=run_label_map,\n",
    "    metric_label_map=my_metrics.droplevel(\"metric set\")[\"short_name\"],\n",
    "    metric_set_source=my_metrics,\n",
    ")"
   ]
  },
  {
   "cell_type": "markdown",
   "metadata": {},
   "source": [
    "## Running additional MAF metrics"
   ]
  },
  {
   "cell_type": "markdown",
   "metadata": {},
   "source": [
    "If the summary metrics are inadequate for what you need, you can download the opsim databases using URLs found in the `runs` `DataFrame` we downloaded above (using `get_runs`):"
   ]
  },
  {
   "cell_type": "code",
   "execution_count": null,
   "metadata": {},
   "outputs": [],
   "source": [
    "runs"
   ]
  },
  {
   "cell_type": "markdown",
   "metadata": {},
   "source": [
    "You will need to specify a directory into which to download runs. To set where this notebook stores the run databases it downloads, uncomment the following cell and set the `out_dir` to your desired location:"
   ]
  },
  {
   "cell_type": "code",
   "execution_count": null,
   "metadata": {},
   "outputs": [],
   "source": [
    "# out_dir = '.'"
   ]
  },
  {
   "cell_type": "markdown",
   "metadata": {},
   "source": [
    "For the purposes of this example, if you do not set the `out_dir`, this notebook creates a temporare directory (which will be deleted when the notebook process ends):"
   ]
  },
  {
   "cell_type": "code",
   "execution_count": null,
   "metadata": {},
   "outputs": [],
   "source": [
    "from tempfile import TemporaryDirectory\n",
    "import os\n",
    "\n",
    "try:\n",
    "    print(f\"Output directory for downloaded opsim run databases is set to {out_dir}.\")\n",
    "except NameError:\n",
    "    temp_dir = TemporaryDirectory(dir=os.getcwd(), prefix=\"tmp_opsim_runs_\")\n",
    "    out_dir = temp_dir.name\n",
    "    print(\n",
    "        f\"Temporary directory {out_dir} created for the storage of opsim databases downloaded by this notebook.\"\n",
    "    )\n",
    "    print(\"These will be deleted when this notebook is stopped or restarted!\")"
   ]
  },
  {
   "cell_type": "markdown",
   "metadata": {},
   "source": [
    "You also need to build a list of runs to download. One easy way is to select the runs that are part of a family, as present in the `family_runs` `DataFrame` we created with `get_family_runs` above:"
   ]
  },
  {
   "cell_type": "code",
   "execution_count": null,
   "metadata": {},
   "outputs": [],
   "source": [
    "my_runs = family_runs.loc[[\"baseline\", \"retro\"], \"run\"].tolist()\n",
    "my_runs"
   ]
  },
  {
   "cell_type": "markdown",
   "metadata": {},
   "source": [
    "Now you can download the opsim output of interest into your runs directory:"
   ]
  },
  {
   "cell_type": "code",
   "execution_count": null,
   "metadata": {},
   "outputs": [],
   "source": [
    "dest_fnames = archive.download_runs(my_runs, out_dir)\n",
    "dest_fnames"
   ]
  },
  {
   "cell_type": "markdown",
   "metadata": {},
   "source": [
    "Note that the return is a `pandas.Series` that maps run name to the file name it was downloaded into. You can now proceed to use these opsim database for your own MAF analysis."
   ]
  },
  {
   "cell_type": "code",
   "execution_count": null,
   "metadata": {},
   "outputs": [],
   "source": []
  }
 ],
 "metadata": {
  "kernelspec": {
   "display_name": "Python3 (LSST MAF)",
   "language": "python",
   "name": "lsst_maf"
  },
  "language_info": {
   "codemirror_mode": {
    "name": "ipython",
    "version": 3
   },
   "file_extension": ".py",
   "mimetype": "text/x-python",
   "name": "python",
   "nbconvert_exporter": "python",
   "pygments_lexer": "ipython3",
   "version": "3.9.5"
  }
 },
 "nbformat": 4,
 "nbformat_minor": 4
}
